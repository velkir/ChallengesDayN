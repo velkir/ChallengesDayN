{
  "nbformat": 4,
  "nbformat_minor": 0,
  "metadata": {
    "colab": {
      "provenance": [],
      "authorship_tag": "ABX9TyMs480rYMdQh5s2GVqWpgzS",
      "include_colab_link": true
    },
    "kernelspec": {
      "name": "python3",
      "display_name": "Python 3"
    },
    "language_info": {
      "name": "python"
    }
  },
  "cells": [
    {
      "cell_type": "markdown",
      "metadata": {
        "id": "view-in-github",
        "colab_type": "text"
      },
      "source": [
        "<a href=\"https://colab.research.google.com/github/velkir/ChallengesDayN/blob/main/ChallengeDay17.ipynb\" target=\"_parent\"><img src=\"https://colab.research.google.com/assets/colab-badge.svg\" alt=\"Open In Colab\"/></a>"
      ]
    },
    {
      "cell_type": "markdown",
      "source": [
        "#ChallengesDay17\n",
        "\n",
        "\n",
        "Exercise 1\n",
        "Using the np.arange() function, generate the following array:\n",
        "\n",
        "```\n",
        "[\n",
        "    '2021-01-01'\n",
        "    '2021-01-02'\n",
        "    '2021-01-03'\n",
        "    '2021-01-04'\n",
        "    '2021-01-05'\n",
        "    '2021-01-06'\n",
        "    '2021-01-07'\n",
        "    '2021-01-08'\n",
        "    '2021-01-09'\n",
        "    '2021-01-10'\n",
        "    '2021-01-11'\n",
        "    '2021-01-12'\n",
        "    '2021-01-13'\n",
        "    '2021-01-14'\n",
        "    '2021-01-15'\n",
        "    '2021-01-16'\n",
        "    '2021-01-17'\n",
        "    '2021-01-18'\n",
        "    '2021-01-19'\n",
        "    '2021-01-20'\n",
        "    '2021-01-21'\n",
        "    '2021-01-22'\n",
        "    '2021-01-23'\n",
        "    '2021-01-24'\n",
        "    '2021-01-25'\n",
        "    '2021-01-26'\n",
        "    '2021-01-27'\n",
        "    '2021-01-28'\n",
        "    '2021-01-29'\n",
        "    '2021-01-30'\n",
        "    '2021-01-31'\n",
        "]\n",
        "```\n",
        "\n",
        "\n",
        "\n",
        "In response print this array to the console.\n",
        "\n",
        "\n",
        "\n",
        "\n"
      ],
      "metadata": {
        "id": "0flMwAhewGdp"
      }
    },
    {
      "cell_type": "code",
      "execution_count": null,
      "metadata": {
        "colab": {
          "base_uri": "https://localhost:8080/"
        },
        "id": "SdlMnhExwF1B",
        "outputId": "74e33a74-feb2-4f23-ae99-67a8d4480db4"
      },
      "outputs": [
        {
          "output_type": "stream",
          "name": "stdout",
          "text": [
            "['2021-01-01'\n",
            " '2021-01-02'\n",
            " '2021-01-03'\n",
            " '2021-01-04'\n",
            " '2021-01-05'\n",
            " '2021-01-06'\n",
            " '2021-01-07'\n",
            " '2021-01-08'\n",
            " '2021-01-09'\n",
            " '2021-01-10'\n",
            " '2021-01-11'\n",
            " '2021-01-12'\n",
            " '2021-01-13'\n",
            " '2021-01-14'\n",
            " '2021-01-15'\n",
            " '2021-01-16'\n",
            " '2021-01-17'\n",
            " '2021-01-18'\n",
            " '2021-01-19'\n",
            " '2021-01-20'\n",
            " '2021-01-21'\n",
            " '2021-01-22'\n",
            " '2021-01-23'\n",
            " '2021-01-24'\n",
            " '2021-01-25'\n",
            " '2021-01-26'\n",
            " '2021-01-27'\n",
            " '2021-01-28'\n",
            " '2021-01-29'\n",
            " '2021-01-30'\n",
            " '2021-01-31']\n"
          ]
        }
      ],
      "source": [
        "import numpy as np\n",
        "\n",
        "start_date = np.datetime64('2021-01-01', 'D')\n",
        "stop_date = np.datetime64('2021-02-01', 'D')\n",
        "t = np.arange(start_date, stop_date, step=np.timedelta64(1, 'D'))\n",
        "print(t)"
      ]
    },
    {
      "cell_type": "markdown",
      "source": [
        "Exercise 2\n",
        "Using the np.arange() function, generate the following array:\n",
        "\n",
        "```\n",
        "[['2021-01' '2021-02' '2021-03']\n",
        " ['2021-04' '2021-05' '2021-06']\n",
        " ['2021-07' '2021-08' '2021-09']\n",
        " ['2021-10' '2021-11' '2021-12']]\n",
        "```\n",
        "\n",
        "\n",
        "\n",
        "In response, print this array to the console."
      ],
      "metadata": {
        "id": "Uq9qOih2wJMK"
      }
    },
    {
      "cell_type": "code",
      "source": [
        "import numpy as np\n",
        "\n",
        "start_date = np.datetime64('2021-01', 'M')\n",
        "end_date = np.datetime64('2022-01', 'M')\n",
        "\n",
        "t = np.arange(start_date, end_date, step=np.timedelta64(1, 'M'))\n",
        "t = t.reshape((4,3))\n",
        "print(t)"
      ],
      "metadata": {
        "colab": {
          "base_uri": "https://localhost:8080/"
        },
        "id": "YpgP-j646L33",
        "outputId": "96e5dd60-4d94-4bcb-d994-13149b26e1ce"
      },
      "execution_count": null,
      "outputs": [
        {
          "output_type": "stream",
          "name": "stdout",
          "text": [
            "[['2021-01'\n",
            "  '2021-02'\n",
            "  '2021-03']\n",
            " ['2021-04'\n",
            "  '2021-05'\n",
            "  '2021-06']\n",
            " ['2021-07'\n",
            "  '2021-08'\n",
            "  '2021-09']\n",
            " ['2021-10'\n",
            "  '2021-11'\n",
            "  '2021-12']]\n"
          ]
        }
      ]
    },
    {
      "cell_type": "markdown",
      "source": [
        "Exercise 3\n",
        "Using the `np.datetime64()` function, generate today's date and print result to the console."
      ],
      "metadata": {
        "id": "Vxt3YC4cwLOG"
      }
    },
    {
      "cell_type": "code",
      "source": [
        "print(np.datetime64('today'))"
      ],
      "metadata": {
        "colab": {
          "base_uri": "https://localhost:8080/"
        },
        "id": "5dwxIRs2g_0g",
        "outputId": "96f1a2e3-350f-42fe-f120-96876824374d"
      },
      "execution_count": null,
      "outputs": [
        {
          "output_type": "stream",
          "name": "stdout",
          "text": [
            "2024-05-08\n"
          ]
        }
      ]
    }
  ]
}