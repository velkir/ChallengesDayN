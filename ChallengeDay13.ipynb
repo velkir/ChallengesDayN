{
  "nbformat": 4,
  "nbformat_minor": 0,
  "metadata": {
    "colab": {
      "provenance": [],
      "authorship_tag": "ABX9TyMJTw3w5hf0GyV7N3zABQpd",
      "include_colab_link": true
    },
    "kernelspec": {
      "name": "python3",
      "display_name": "Python 3"
    },
    "language_info": {
      "name": "python"
    }
  },
  "cells": [
    {
      "cell_type": "markdown",
      "metadata": {
        "id": "view-in-github",
        "colab_type": "text"
      },
      "source": [
        "<a href=\"https://colab.research.google.com/github/velkir/ChallengesDayN/blob/main/ChallengeDay13.ipynb\" target=\"_parent\"><img src=\"https://colab.research.google.com/assets/colab-badge.svg\" alt=\"Open In Colab\"/></a>"
      ]
    },
    {
      "cell_type": "markdown",
      "source": [
        "# Exercise 1\n",
        "The following arrays are given:\n",
        "\n",
        "```\n",
        "A = np.linspace(0, np.pi / 2, 20)\n",
        "B = np.full(shape=(20,), fill_value=1, dtype='float')\n",
        "```\n",
        "\n",
        "\n",
        "\n",
        "Check the Pythagorean formula for sines and cosines on the A array and then compare the result with the B array.\n",
        "\n",
        "In response, print result to the console.\n",
        "\n",
        "Expected result:\n",
        "```True```\n",
        "\n",
        "\n",
        "\n"
      ],
      "metadata": {
        "id": "YbR_xwS1L_-3"
      }
    },
    {
      "cell_type": "code",
      "execution_count": null,
      "metadata": {
        "colab": {
          "base_uri": "https://localhost:8080/"
        },
        "id": "fqEAgV9mL_OW",
        "outputId": "8cc88ab0-3662-4318-83a2-7daf5a42ccd4"
      },
      "outputs": [
        {
          "output_type": "execute_result",
          "data": {
            "text/plain": [
              "True"
            ]
          },
          "metadata": {},
          "execution_count": 23
        }
      ],
      "source": [
        "import numpy as np\n",
        "\n",
        "np. set_printoptions(precision=50)\n",
        "A = np.linspace(0, np.pi / 2, 20)\n",
        "B = np.full(shape=(20,), fill_value=1, dtype='float')\n",
        "\n",
        "C = np.round(np.sin(A)**2+np.cos(A)**2, 10)\n",
        "\n",
        "np.array_equal(B, C)\n"
      ]
    },
    {
      "cell_type": "markdown",
      "source": [
        "# Exercise 2\n",
        "The following arrays are given:\n",
        "\n",
        "```\n",
        "A = np.array([[2, 3],\n",
        "              [-4, 2],\n",
        "              [5, 0]])\n",
        "B = np.array([[4, 3, 2],\n",
        "              [-1, 0, 2]])\n",
        "```\n",
        "\n",
        "\n",
        "\n",
        "Shapes of these arrays:\n",
        "\n",
        "A - 3x2\n",
        "\n",
        "B - 2x3\n",
        "\n",
        "Perform matrix multiplication A x B and print result to the console.\n",
        "\n",
        "Expected result:\n",
        "\n",
        "```\n",
        "[[  5   6  10]\n",
        " [-18 -12  -4]\n",
        " [ 20  15  10]]\n",
        "```\n",
        "\n"
      ],
      "metadata": {
        "id": "gdyRD6c6MIId"
      }
    },
    {
      "cell_type": "code",
      "source": [
        "A = np.array([[2, 3],\n",
        "              [-4, 2],\n",
        "              [5, 0]])\n",
        "B = np.array([[4, 3, 2],\n",
        "              [-1, 0, 2]])\n",
        "\n",
        "np.matmul(A, B)"
      ],
      "metadata": {
        "colab": {
          "base_uri": "https://localhost:8080/"
        },
        "id": "y2_fSSH9MKLC",
        "outputId": "5fd0120f-67ac-4580-821b-726443d3a614"
      },
      "execution_count": null,
      "outputs": [
        {
          "output_type": "execute_result",
          "data": {
            "text/plain": [
              "array([[  5,   6,  10],\n",
              "       [-18, -12,  -4],\n",
              "       [ 20,  15,  10]])"
            ]
          },
          "metadata": {},
          "execution_count": 24
        }
      ]
    },
    {
      "cell_type": "markdown",
      "source": [
        "# Exercise 3\n",
        "The following array is given:\n",
        "\n",
        "```\n",
        "A = np.array([[-2, 0, 4],\n",
        "              [5, 2, -1],\n",
        "              [-4, 2, 4]])\n",
        "```\n",
        "\n",
        "\n",
        "\n",
        "Calculate the determinant of this matrix and print it to the console.\n",
        "\n",
        "Expected result:\n",
        "`51.999999999999986`"
      ],
      "metadata": {
        "id": "BQXDqG2GMKpJ"
      }
    },
    {
      "cell_type": "code",
      "source": [
        "A = np.array([[-2, 0, 4],\n",
        "              [5, 2, -1],\n",
        "              [-4, 2, 4]])\n",
        "\n",
        "np.linalg.det(A)"
      ],
      "metadata": {
        "colab": {
          "base_uri": "https://localhost:8080/"
        },
        "id": "4XziauIaacKJ",
        "outputId": "8d4d11da-022b-4c24-e81a-6a0d3b345bbc"
      },
      "execution_count": null,
      "outputs": [
        {
          "output_type": "execute_result",
          "data": {
            "text/plain": [
              "51.999999999999986"
            ]
          },
          "metadata": {},
          "execution_count": 25
        }
      ]
    }
  ]
}