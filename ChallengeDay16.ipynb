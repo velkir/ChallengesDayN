{
  "nbformat": 4,
  "nbformat_minor": 0,
  "metadata": {
    "colab": {
      "provenance": [],
      "authorship_tag": "ABX9TyP0FcOB6ojyHdZFGyx6iU8p",
      "include_colab_link": true
    },
    "kernelspec": {
      "name": "python3",
      "display_name": "Python 3"
    },
    "language_info": {
      "name": "python"
    }
  },
  "cells": [
    {
      "cell_type": "markdown",
      "metadata": {
        "id": "view-in-github",
        "colab_type": "text"
      },
      "source": [
        "<a href=\"https://colab.research.google.com/github/velkir/ChallengesDayN/blob/main/ChallengeDay16.ipynb\" target=\"_parent\"><img src=\"https://colab.research.google.com/assets/colab-badge.svg\" alt=\"Open In Colab\"/></a>"
      ]
    },
    {
      "cell_type": "markdown",
      "source": [
        "#ChallengesDay16\n",
        "\n",
        "\n",
        "Exercise 1\n",
        "Calculate the roots of the following polynomials:\n",
        "\n",
        "```\n",
        "Q(x) = 2*x**3 + 4*x**2 - 5*x + 1\n",
        "R(x) = 2*x**3 - 5*x + 1\n",
        "```\n",
        "\n",
        "\n",
        "\n",
        "In response print these roots to the console as shown below.\n",
        "\n",
        "Expected output:\n",
        "\n",
        "```\n",
        "[-2.91610583  0.65388685  0.26221898]\n",
        "[-1.67298165  1.46961743  0.20336421]\n",
        "```\n",
        "\n",
        "\n",
        "\n",
        "\n",
        "\n"
      ],
      "metadata": {
        "id": "Q9TePuD4gfCa"
      }
    },
    {
      "cell_type": "code",
      "execution_count": null,
      "metadata": {
        "colab": {
          "base_uri": "https://localhost:8080/"
        },
        "id": "54rHUpDggej8",
        "outputId": "d3675294-26b1-4ef8-8ef0-bba116b22e88"
      },
      "outputs": [
        {
          "output_type": "stream",
          "name": "stdout",
          "text": [
            "[-2.91610583  0.65388685  0.26221898]\n",
            "[-1.67298165  1.46961743  0.20336421]\n"
          ]
        }
      ],
      "source": [
        "import numpy as np\n",
        "\n",
        "Q = [2, 4, -5, 1]\n",
        "R = [2, 0, -5, 1]\n",
        "\n",
        "print(np.roots(Q))\n",
        "print(np.roots(R))"
      ]
    },
    {
      "cell_type": "markdown",
      "source": [
        "Exercise 2\n",
        "The following polynomials are given:\n",
        "\n",
        "```\n",
        "W(x) = 4*x**2 + 5*x + 1\n",
        "\n",
        "Q(x) = 2*x**3 + 4*x**2 - 5*x + 1\n",
        "```\n",
        "\n",
        "\n",
        "Perform the following operations and print results to the console as shown below:\n",
        "\n",
        "W(x) + Q(x)\n",
        "\n",
        "W(x) - Q(x)\n",
        "\n",
        "W(x) * Q(x)\n",
        "\n",
        "W(x) + 2*Q(x)\n",
        "Expected output:\n",
        "\n",
        "```\n",
        "[2 8 0 2]\n",
        "[-2  0 10  0]\n",
        "[  8  26   2 -17   0   1]\n",
        "[ 4 12 -5  3]\n",
        "```\n",
        "\n"
      ],
      "metadata": {
        "id": "IgaM2NQGgmRt"
      }
    },
    {
      "cell_type": "code",
      "source": [
        "#Не уверен, как ты вывела такой результат (без нескольких кривых трансформаций)\n",
        "\n",
        "from numpy.polynomial import polynomial as P\n",
        "from numpy.polynomial import Polynomial\n",
        "\n",
        "W = Polynomial([1, 5, 4])\n",
        "Q = Polynomial([1, -5, 4, 2])\n",
        "\n",
        "print(P.polyadd(W, Q))\n",
        "print(P.polysub(W, Q))\n",
        "print(P.polymul(W, Q))\n",
        "print(P.polyadd(W, 2*Q))"
      ],
      "metadata": {
        "colab": {
          "base_uri": "https://localhost:8080/"
        },
        "id": "0yVIuagmgnmQ",
        "outputId": "ed7ace51-d982-4dc2-c0a6-3416c5728df5"
      },
      "execution_count": null,
      "outputs": [
        {
          "output_type": "stream",
          "name": "stdout",
          "text": [
            "[Polynomial([2., 0., 8., 2.], domain=[-1.,  1.], window=[-1.,  1.], symbol='x')]\n",
            "[Polynomial([ 0., 10.,  0., -2.], domain=[-1.,  1.], window=[-1.,  1.], symbol='x')]\n",
            "[Polynomial([  1.,   0., -17.,   2.,  26.,   8.], domain=[-1.,  1.], window=[-1.,  1.], symbol='x')]\n",
            "[Polynomial([ 3., -5., 12.,  4.], domain=[-1.,  1.], window=[-1.,  1.], symbol='x')]\n"
          ]
        }
      ]
    },
    {
      "cell_type": "markdown",
      "source": [
        "Exercise 3\n",
        "The following array is given:\n",
        "\n",
        "```\n",
        "A = np.array([[-4, 3, 0, 1, -5],\n",
        "              [6, -4, -2, 1, 3]])\n",
        "```\n",
        "\n",
        "\n",
        "\n",
        "Use the sign function for this array.\n",
        "\n",
        "Reminder: The sign function works as follows: returns -1 for negative values, zero for zero, and 1 for positive values.\n",
        "\n",
        "Expected result:\n",
        "\n",
        "```\n",
        "[[-1  1  0  1 -1]\n",
        " [ 1 -1 -1  1  1]]\n",
        "```\n",
        "\n"
      ],
      "metadata": {
        "id": "0dUpN_g9goGc"
      }
    },
    {
      "cell_type": "code",
      "source": [
        "import numpy as np\n",
        "\n",
        "A = np.array([[-4, 3, 0, 1, -5],\n",
        "              [6, -4, -2, 1, 3]])\n",
        "\n",
        "print(np.sign(A))"
      ],
      "metadata": {
        "colab": {
          "base_uri": "https://localhost:8080/"
        },
        "id": "bV4E6LP0gofz",
        "outputId": "915d7929-37f6-468b-9f1e-e610f17aba59"
      },
      "execution_count": null,
      "outputs": [
        {
          "output_type": "stream",
          "name": "stdout",
          "text": [
            "[[-1  1  0  1 -1]\n",
            " [ 1 -1 -1  1  1]]\n"
          ]
        }
      ]
    }
  ]
}