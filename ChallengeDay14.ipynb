{
  "nbformat": 4,
  "nbformat_minor": 0,
  "metadata": {
    "colab": {
      "provenance": [],
      "authorship_tag": "ABX9TyMY1X+Aq29SWqjsw0A0cF6h",
      "include_colab_link": true
    },
    "kernelspec": {
      "name": "python3",
      "display_name": "Python 3"
    },
    "language_info": {
      "name": "python"
    }
  },
  "cells": [
    {
      "cell_type": "markdown",
      "metadata": {
        "id": "view-in-github",
        "colab_type": "text"
      },
      "source": [
        "<a href=\"https://colab.research.google.com/github/velkir/ChallengesDayN/blob/main/ChallengeDay14.ipynb\" target=\"_parent\"><img src=\"https://colab.research.google.com/assets/colab-badge.svg\" alt=\"Open In Colab\"/></a>"
      ]
    },
    {
      "cell_type": "markdown",
      "source": [
        "# Exercise 1\n",
        "The following array (square matrix) is given:\n",
        "\n",
        "```\n",
        "A = np.array([[5, 8, 16],\n",
        "              [4, 1, 8],\n",
        "              [-4, 4, -11]])\n",
        "```\n",
        "\n",
        "\n",
        "Calculate eigenvalues and their corresponding eigenvectors of this matrix and print to the console as shown below.\n",
        "\n",
        "Expected output:\n",
        "```\n",
        "[-9.24621125 -3.          7.24621125]\n",
        "[[-6.26164716e-01 -8.94427191e-01  8.90159406e-01]\n",
        " [-3.13082358e-01  2.47099767e-16  4.45079703e-01]\n",
        " [ 7.14070855e-01  4.47213595e-01 -9.75719719e-02]]\n",
        "```"
      ],
      "metadata": {
        "id": "rkKsCfsQisd5"
      }
    },
    {
      "cell_type": "code",
      "execution_count": null,
      "metadata": {
        "colab": {
          "base_uri": "https://localhost:8080/"
        },
        "id": "dOElDFa0imSt",
        "outputId": "16296b39-8be4-4174-98b8-4388f5600c05"
      },
      "outputs": [
        {
          "output_type": "stream",
          "name": "stdout",
          "text": [
            "[-9.24621125 -3.          7.24621125]\n",
            "[[-6.26164716e-01 -8.94427191e-01  8.90159406e-01]\n",
            " [-3.13082358e-01  2.82399734e-16  4.45079703e-01]\n",
            " [ 7.14070855e-01  4.47213595e-01 -9.75719719e-02]]\n"
          ]
        }
      ],
      "source": [
        "import numpy as np\n",
        "\n",
        "A = np.array([[5, 8, 16],\n",
        "              [4, 1, 8],\n",
        "              [-4, 4, -11]])\n",
        "\n",
        "eigenvalues, eigenvectors = np.linalg.eig(A)\n",
        "print(eigenvalues)\n",
        "print(eigenvectors)"
      ]
    },
    {
      "cell_type": "markdown",
      "source": [
        "# Exercise 2\n",
        "The following array (square matrix) is given:\n",
        "\n",
        "```\n",
        "A = np.array([[5, 8, 16],\n",
        "              [4, 1, 8],\n",
        "              [-4, 4, -11]])\n",
        "```\n",
        "\n",
        "\n",
        "Find the inverse matrix to this matrix and print it to the console.\n",
        "\n",
        "Expected result:\n",
        "\n",
        "```\n",
        "[[-0.21393035  0.75621891  0.23880597]\n",
        " [ 0.05970149  0.04477612  0.11940299]\n",
        " [ 0.09950249 -0.25870647 -0.13432836]]\n",
        "```"
      ],
      "metadata": {
        "id": "C1CqtA7Yi05t"
      }
    },
    {
      "cell_type": "code",
      "source": [
        "A = np.array([[5, 8, 16],\n",
        "              [4, 1, 8],\n",
        "              [-4, 4, -11]])\n",
        "\n",
        "np.linalg.inv(A)"
      ],
      "metadata": {
        "colab": {
          "base_uri": "https://localhost:8080/"
        },
        "id": "CaMVWix1i1Kq",
        "outputId": "c3ca6f22-3238-422c-93f4-498318b22fe4"
      },
      "execution_count": null,
      "outputs": [
        {
          "output_type": "execute_result",
          "data": {
            "text/plain": [
              "array([[-0.21393035,  0.75621891,  0.23880597],\n",
              "       [ 0.05970149,  0.04477612,  0.11940299],\n",
              "       [ 0.09950249, -0.25870647, -0.13432836]])"
            ]
          },
          "metadata": {},
          "execution_count": 6
        }
      ]
    },
    {
      "cell_type": "markdown",
      "source": [
        "# Exercise 3\n",
        "The following array (square matrix) is given:\n",
        "\n",
        "```\n",
        "A = np.array([[5, 8, 16],\n",
        "              [4, 1, 8],\n",
        "              [-4, 4, -11]])\n",
        "```\n",
        "\n",
        "\n",
        "Find the trace of this matrix (sum of elements on the main diagonal) and print result to the console.\n",
        "\n",
        "Expected output:\n",
        "\n",
        "`-5`"
      ],
      "metadata": {
        "id": "JdMXBODni4fF"
      }
    },
    {
      "cell_type": "code",
      "source": [
        "A = np.array([[5, 8, 16],\n",
        "              [4, 1, 8],\n",
        "              [-4, 4, -11]])\n",
        "\n",
        "np.trace(A)"
      ],
      "metadata": {
        "colab": {
          "base_uri": "https://localhost:8080/"
        },
        "id": "iVngtu2Ei4ua",
        "outputId": "2a6653bd-d59f-4af7-dfae-5f912d411659"
      },
      "execution_count": null,
      "outputs": [
        {
          "output_type": "execute_result",
          "data": {
            "text/plain": [
              "-5"
            ]
          },
          "metadata": {},
          "execution_count": 7
        }
      ]
    },
    {
      "cell_type": "markdown",
      "source": [
        "# Exercise 4\n",
        "The following arrays are given:\n",
        "\n",
        "```\n",
        "A = np.array([[2, 0],\n",
        "              [4, 2],\n",
        "              [5, 3],\n",
        "              [4, 2]])\n",
        "B = np.array([[4, 0, 2, 1, 1, 0, 2, 9]])\n",
        "```\n",
        "\n",
        "\n",
        "Shapes of these arrays:\n",
        "\n",
        "A - 4x2\n",
        "\n",
        "B - 1x8\n",
        "\n",
        "Transform B array to perform the matrix multiplication A x B. Then perform this multiplication and print result to the console.\n",
        "\n",
        "\n",
        "Expected result:\n",
        "\n",
        "```\n",
        "array([[ 8,  0,  4,  2],\n",
        "       [18,  0, 12, 22],\n",
        "       [23,  0, 16, 32],\n",
        "       [18,  0, 12, 22]])\n",
        "```\n",
        "\n"
      ],
      "metadata": {
        "id": "3PLNEPcWi8Xm"
      }
    },
    {
      "cell_type": "code",
      "source": [
        "A = np.array([[2, 0],\n",
        "              [4, 2],\n",
        "              [5, 3],\n",
        "              [4, 2]])\n",
        "B = np.array([[4, 0, 2, 1, 1, 0, 2, 9]])\n",
        "\n",
        "B = np.reshape(B, (2, 4))\n",
        "np.matmul(A, B)"
      ],
      "metadata": {
        "colab": {
          "base_uri": "https://localhost:8080/"
        },
        "id": "lhbD-P8-i9C0",
        "outputId": "deaf5379-28be-4bcc-d82b-1ffb311bba0d"
      },
      "execution_count": null,
      "outputs": [
        {
          "output_type": "execute_result",
          "data": {
            "text/plain": [
              "array([[ 8,  0,  4,  2],\n",
              "       [18,  0, 12, 22],\n",
              "       [23,  0, 16, 32],\n",
              "       [18,  0, 12, 22]])"
            ]
          },
          "metadata": {},
          "execution_count": 17
        }
      ]
    }
  ]
}