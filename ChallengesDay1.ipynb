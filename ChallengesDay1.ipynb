{
  "nbformat": 4,
  "nbformat_minor": 0,
  "metadata": {
    "colab": {
      "provenance": [],
      "authorship_tag": "ABX9TyPVXd/TUQo2OOKMpLk1qnRb",
      "include_colab_link": true
    },
    "kernelspec": {
      "name": "python3",
      "display_name": "Python 3"
    },
    "language_info": {
      "name": "python"
    }
  },
  "cells": [
    {
      "cell_type": "markdown",
      "metadata": {
        "id": "view-in-github",
        "colab_type": "text"
      },
      "source": [
        "<a href=\"https://colab.research.google.com/github/velkir/ChallengesDayN/blob/main/ChallengesDay1.ipynb\" target=\"_parent\"><img src=\"https://colab.research.google.com/assets/colab-badge.svg\" alt=\"Open In Colab\"/></a>"
      ]
    },
    {
      "cell_type": "markdown",
      "source": [
        "1. Write a Python program to calculate the length of a string."
      ],
      "metadata": {
        "id": "GsTudtk6z5Ad"
      }
    },
    {
      "cell_type": "code",
      "execution_count": null,
      "metadata": {
        "colab": {
          "base_uri": "https://localhost:8080/"
        },
        "id": "gWgpuE_2zs5P",
        "outputId": "b72180af-c05d-4719-dd8d-3edb20a74aca"
      },
      "outputs": [
        {
          "output_type": "execute_result",
          "data": {
            "text/plain": [
              "9"
            ]
          },
          "metadata": {},
          "execution_count": 3
        }
      ],
      "source": [
        "def get_string_length(string):\n",
        "  return len(string)\n",
        "\n",
        "get_string_length(\"aaasdadsa\")"
      ]
    },
    {
      "cell_type": "markdown",
      "source": [
        "2. Write a Python program to sum all the items in a list."
      ],
      "metadata": {
        "id": "rNfTLmXI0Okv"
      }
    },
    {
      "cell_type": "code",
      "source": [
        "#если только numeric, то можно и через sum()\n",
        "def sum_numeric_list_values(numeric_list):\n",
        "  return sum(numeric_list)\n",
        "\n",
        "test_list = [1, 2, 3, 4, 6, 5]\n",
        "print(sum_numeric_list_values(test_list))\n",
        "\n",
        "\n",
        "# from functools import reduce\n",
        "\n",
        "# def sum_list_values(list_):\n",
        "#   return reduce(lambda x, y: x+y, list_)\n",
        "\n",
        "# test_list = [1, 2, 3, 4, 6, 5]\n",
        "# test_list2 = [\"a\", \"b\", \"c\", \"d\"]\n",
        "# test_list3 = (True, False, True, False)\n",
        "\n",
        "# print(sum_list_values(test_list))\n",
        "# print(sum_list_values(test_list2))\n",
        "# print(sum_list_values(test_list3))\n",
        "\n"
      ],
      "metadata": {
        "colab": {
          "base_uri": "https://localhost:8080/"
        },
        "id": "opLn9WB20G9k",
        "outputId": "29bc29b6-2e82-4058-e05e-e5197d314da4"
      },
      "execution_count": null,
      "outputs": [
        {
          "output_type": "stream",
          "name": "stdout",
          "text": [
            "21\n"
          ]
        }
      ]
    },
    {
      "cell_type": "markdown",
      "source": [
        "3. Write a Python program to multiplies all the items in a list."
      ],
      "metadata": {
        "id": "OsVaaQFM6vPq"
      }
    },
    {
      "cell_type": "code",
      "source": [
        "from functools import reduce\n",
        "import operator\n",
        "\n",
        "def multiply_list_values(numeric_list):\n",
        "  return reduce(operator.mul, numeric_list)\n",
        "\n",
        "test_list = [1, 2, 3, 4, 6, 5]\n",
        "\n",
        "multiply_list_values(test_list)"
      ],
      "metadata": {
        "colab": {
          "base_uri": "https://localhost:8080/"
        },
        "id": "hHYnYlZE6voA",
        "outputId": "7f0ac682-7484-4c13-fab4-684ef644341c"
      },
      "execution_count": null,
      "outputs": [
        {
          "output_type": "execute_result",
          "data": {
            "text/plain": [
              "720"
            ]
          },
          "metadata": {},
          "execution_count": 31
        }
      ]
    },
    {
      "cell_type": "markdown",
      "source": [
        "4. Write a Python program to get the largest number from a list."
      ],
      "metadata": {
        "id": "G_NtAlvo8gwi"
      }
    },
    {
      "cell_type": "code",
      "source": [
        "def get_largest_number(numeric_list):\n",
        "  return max(numeric_list)\n",
        "\n",
        "# def get_largest_number(numeric_list):\n",
        "#   return reduce(lambda a, b: a if a > b else b, numeric_list)\n",
        "\n",
        "test_list = [1, 2, 3, 4, 6, 5]\n",
        "\n",
        "get_largest_number(test_list)\n",
        "\n"
      ],
      "metadata": {
        "colab": {
          "base_uri": "https://localhost:8080/"
        },
        "id": "9vNWFa7X8g9m",
        "outputId": "86521f8d-51af-497f-8a91-e6adb99dc3c7"
      },
      "execution_count": null,
      "outputs": [
        {
          "output_type": "execute_result",
          "data": {
            "text/plain": [
              "6"
            ]
          },
          "metadata": {},
          "execution_count": 175
        }
      ]
    },
    {
      "cell_type": "markdown",
      "source": [
        "5. Write a Python program to get the smallest number from a list."
      ],
      "metadata": {
        "id": "L011Kl39-N9T"
      }
    },
    {
      "cell_type": "code",
      "source": [
        "def get_smallest_number(numeric_list):\n",
        "  return min(numeric_list)\n",
        "\n",
        "test_list = [1, 2, 3, 4, 6, 5]\n",
        "\n",
        "get_smallest_number(test_list)"
      ],
      "metadata": {
        "colab": {
          "base_uri": "https://localhost:8080/"
        },
        "id": "udyDTYZ3-OLW",
        "outputId": "45302f10-d409-47af-fe78-1257618bc5dd"
      },
      "execution_count": null,
      "outputs": [
        {
          "output_type": "execute_result",
          "data": {
            "text/plain": [
              "1"
            ]
          },
          "metadata": {},
          "execution_count": 33
        }
      ]
    },
    {
      "cell_type": "markdown",
      "source": [
        "6. Write a Python program to count the number of characters in a string.\n",
        "Sample String : 'google.com'\n",
        "\n",
        "Expected Result :\n",
        "\n",
        "`{'o': 3, 'g': 2, '.': 1, 'e': 1, 'l': 1, 'm': 1, 'c': 1}`"
      ],
      "metadata": {
        "id": "xm17fCUs-fnz"
      }
    },
    {
      "cell_type": "code",
      "source": [
        "# def count_characters(string):\n",
        "#   symbols = set([*string])\n",
        "#   counter_dict = dict()\n",
        "\n",
        "#   for symbol in symbols:\n",
        "#     if symbol not in counter_dict:\n",
        "#       counter_dict[symbol] = [*string].count(symbol)\n",
        "\n",
        "#   return counter_dict\n",
        "\n",
        "# print(count_characters(\"google.com\"))\n",
        "\n",
        "\n",
        "def count_characters(string):\n",
        "  return {symbol:[*string].count(symbol) for symbol in [*string]}\n",
        "\n",
        "count_characters(\"google.com\")"
      ],
      "metadata": {
        "colab": {
          "base_uri": "https://localhost:8080/"
        },
        "id": "4qY63q-O-f65",
        "outputId": "7bd45203-c199-4d34-ef37-45362d68d281"
      },
      "execution_count": null,
      "outputs": [
        {
          "output_type": "execute_result",
          "data": {
            "text/plain": [
              "{'g': 2, 'o': 3, 'l': 1, 'e': 1, '.': 1, 'c': 1, 'm': 1}"
            ]
          },
          "metadata": {},
          "execution_count": 7
        }
      ]
    },
    {
      "cell_type": "markdown",
      "source": [
        "8. Write a Python program to count the number of strings where the string length is 2 or more and the first and last character are same from a given list of strings.\n",
        "\n",
        "\n",
        "```\n",
        "Sample List : ['abc', 'xyz', 'aba', '1221']\n",
        "Expected Result : 2\n",
        "```\n",
        "\n",
        "\n"
      ],
      "metadata": {
        "id": "x3262jMuhYVU"
      }
    },
    {
      "cell_type": "code",
      "source": [
        "def count_strings(strings_list):\n",
        "  counter = 0\n",
        "  for string in strings_list: counter += 1 if len(string) >= 2 and string[0] == string[-1] else 0\n",
        "  return counter\n",
        "\n",
        "count_strings(['abc', 'xyz', 'aba', '1221', '22222'])"
      ],
      "metadata": {
        "id": "u_ickI9MhYwL",
        "colab": {
          "base_uri": "https://localhost:8080/"
        },
        "outputId": "b39638bf-fd4a-4fc3-d079-3df8793c196e"
      },
      "execution_count": null,
      "outputs": [
        {
          "output_type": "execute_result",
          "data": {
            "text/plain": [
              "3"
            ]
          },
          "metadata": {},
          "execution_count": 10
        }
      ]
    },
    {
      "cell_type": "markdown",
      "source": [
        "9. Write a Python program to get a list, sorted in increasing order by the last element in each tuple from a given list of non-empty tuples.\n",
        "\n",
        "```\n",
        "Sample List : [(2, 5), (1, 2), (4, 4), (2, 3), (2, 1)]\n",
        "Expected Result : [(2, 1), (1, 2), (2, 3), (4, 4), (2, 5)]\n",
        "\n",
        "```\n",
        "\n",
        "\n"
      ],
      "metadata": {
        "id": "GaZSgGUSZy0y"
      }
    },
    {
      "cell_type": "code",
      "source": [
        "def sort_tupled_list(tupled_list):\n",
        "  return sorted(tupled_list, key=lambda tuple_: tuple_[-1])\n",
        "\n",
        "print(sort_tupled_list([(2, 5), (1, 2), (4, 4), (2, 3), (2, 1)]))"
      ],
      "metadata": {
        "colab": {
          "base_uri": "https://localhost:8080/"
        },
        "id": "tvaP0J9NZzIb",
        "outputId": "49e7c3bf-46fe-4321-bea2-55aca549a236"
      },
      "execution_count": null,
      "outputs": [
        {
          "output_type": "stream",
          "name": "stdout",
          "text": [
            "[(2, 1), (1, 2), (2, 3), (4, 4), (2, 5)]\n"
          ]
        }
      ]
    },
    {
      "cell_type": "markdown",
      "source": [
        "10. Write a Python program to get a string made of the first 2 and the last 2 chars from a given a string. If the string length is less than 2, return instead the empty string.\n",
        "\n",
        "\n",
        "\n",
        "```\n",
        "Sample String : 'w3resource'\n",
        "Expected Result : 'w3ce'\n",
        "Sample String : 'w3'\n",
        "Expected Result : 'w3w3'\n",
        "Sample String : ' w'\n",
        "Expected Result : Empty String\n",
        "```\n",
        "\n"
      ],
      "metadata": {
        "id": "__91Qq1mbeJN"
      }
    },
    {
      "cell_type": "code",
      "source": [
        "def edit_string(string):\n",
        "  return string[:2]+string[-2:] if len(string) >= 2 else \"Empty String\"\n",
        "\n",
        "edit_string(\"w3\")"
      ],
      "metadata": {
        "colab": {
          "base_uri": "https://localhost:8080/",
          "height": 35
        },
        "id": "_2_O803pbecO",
        "outputId": "f87c7549-d020-41cd-8229-75cf651c802f"
      },
      "execution_count": null,
      "outputs": [
        {
          "output_type": "execute_result",
          "data": {
            "text/plain": [
              "'w3w3'"
            ],
            "application/vnd.google.colaboratory.intrinsic+json": {
              "type": "string"
            }
          },
          "metadata": {},
          "execution_count": 34
        }
      ]
    },
    {
      "cell_type": "markdown",
      "source": [
        "11.Write a Python program to get a string from a given string where all occurrences of its first char have been changed to '$', except the first char itself.\n",
        "\n",
        "\n",
        "```\n",
        "Sample String : 'restart'\n",
        "Expected Result : 'resta$t'\n",
        "```\n",
        "\n"
      ],
      "metadata": {
        "id": "CtLLppl4c0nO"
      }
    },
    {
      "cell_type": "code",
      "source": [
        "import re\n",
        "\n",
        "def dollarize_string(string):\n",
        "  return \"\".join([\"$\" if string[i] == string[0] and i>0 else string[i] for i in range(len(string))])\n",
        "  # for i in range(len(string)): final_string += \"$\" if string[i] == string[0] and i>0 else string[i]\n",
        "\n",
        "print(dollarize_string(\"testteststring\"))"
      ],
      "metadata": {
        "colab": {
          "base_uri": "https://localhost:8080/"
        },
        "id": "1nnsgjfPc07c",
        "outputId": "7421b604-9b39-4156-9174-264543c2fec3"
      },
      "execution_count": null,
      "outputs": [
        {
          "output_type": "stream",
          "name": "stdout",
          "text": [
            "tes$$es$s$ring\n"
          ]
        }
      ]
    },
    {
      "cell_type": "markdown",
      "source": [
        "12. Write a Python program to get a single string from two given strings, separated by a space and swap the first two characters of each string.\n",
        "\n",
        "\n",
        "```\n",
        "Sample String : 'abc', 'xyz'\n",
        "Expected Result : 'xyc abz'\n",
        "```\n",
        "\n",
        "\n"
      ],
      "metadata": {
        "id": "uMaPUcCroFNi"
      }
    },
    {
      "cell_type": "code",
      "source": [
        "def join_strings(string1, string2):\n",
        "  string1 = \" \".join([string2[0:2]+string1[2::], string1[0:2]+string2[2::]])\n",
        "  print(string1)\n",
        "\n",
        "join_strings('abc', 'xyz')"
      ],
      "metadata": {
        "colab": {
          "base_uri": "https://localhost:8080/"
        },
        "id": "ah2arlkMoFaK",
        "outputId": "83500b51-9dcb-457a-b368-2898d3803e27"
      },
      "execution_count": null,
      "outputs": [
        {
          "output_type": "stream",
          "name": "stdout",
          "text": [
            "xyc abz\n"
          ]
        }
      ]
    },
    {
      "cell_type": "markdown",
      "source": [
        "13. Write a Python program to add 'ing' at the end of a given string (length should be at least 3). If the given string is already ends with 'ing' then add 'ly' instead. If the string length of the given string is less than 3, leave it unchanged.\n",
        "\n",
        "```\n",
        "Sample String : 'abc'\n",
        "Expected Result : 'abcing'\n",
        "Sample String : 'string'\n",
        "Expected Result : 'stringly'\n",
        "```\n",
        "\n",
        "\n"
      ],
      "metadata": {
        "id": "0RNZZqVMrpyb"
      }
    },
    {
      "cell_type": "code",
      "source": [
        "def add_ing(string):\n",
        "  match string:\n",
        "    case _ if len(string) >= 3 and string.endswith('ing') == False:\n",
        "      return string+\"ing\"\n",
        "    case _ if len(string) < 3:\n",
        "      return string\n",
        "    case _ if string.endswith(\"ing\"):\n",
        "      return string+\"ly\"\n",
        "\n",
        "print(add_ing(\"abc\"))\n",
        "print(add_ing(\"string\"))"
      ],
      "metadata": {
        "colab": {
          "base_uri": "https://localhost:8080/"
        },
        "id": "Xc_6pPC2rqGv",
        "outputId": "8789e7b6-13df-479e-a4a2-b7b395938d7c"
      },
      "execution_count": null,
      "outputs": [
        {
          "output_type": "stream",
          "name": "stdout",
          "text": [
            "abcing\n",
            "stringly\n"
          ]
        }
      ]
    },
    {
      "cell_type": "markdown",
      "source": [
        "14. Write a Python program to find the first appearance of the substring 'not' and 'poor' from a given string, if 'bad' follows the 'poor', replace the whole 'not'...'poor' substring with 'good'. Return the resulting string.\n",
        "\n",
        "\n",
        "```\n",
        "Sample String : 'The lyrics is not that poor!'\n",
        "Expected Result : 'The lyrics is good!'\n",
        "```\n",
        "\n",
        "\n"
      ],
      "metadata": {
        "id": "eb1OhaTKyxBm"
      }
    },
    {
      "cell_type": "code",
      "source": [
        "#Ознакомился с решением. Не понял сразу, что от меня хотят\n",
        "\n",
        "# Define a function named not_poor that takes one argument, 'str1'.\n",
        "def not_poor(str1):\n",
        "    # Find the index of the substring 'not' in the input string 'str1' and store it in 'snot'.\n",
        "    snot = str1.find('not')\n",
        "\n",
        "    # Find the index of the substring 'poor' in the input string 'str1' and store it in 'spoor'.\n",
        "    spoor = str1.find('poor')\n",
        "\n",
        "    # Check if 'poor' is found after 'not', and both 'not' and 'poor' are present in the string.\n",
        "    if spoor > snot and snot > 0 and spoor > 0:\n",
        "        # Replace the substring from 'snot' to 'spoor+4' (inclusive) with 'good'.\n",
        "        str1 = str1.replace(str1[snot:(spoor+4)], 'good')\n",
        "        return str1\n",
        "    else:\n",
        "        # If the conditions are not met, return the original 'str1'.\n",
        "        return str1\n",
        "\n",
        "# Call the not_poor function with different input strings and print the results.\n",
        "print(not_poor('The lyrics is not that poor!'))  # Output: 'The lyrics is good!'\n",
        "print(not_poor('The lyrics is poor!'))          # Output: 'The lyrics is poor!'\n"
      ],
      "metadata": {
        "colab": {
          "base_uri": "https://localhost:8080/"
        },
        "id": "tJHQD_ezyxeJ",
        "outputId": "a78e5f4f-af20-4977-e02f-ec0d3556c89e"
      },
      "execution_count": null,
      "outputs": [
        {
          "output_type": "stream",
          "name": "stdout",
          "text": [
            "The lyrics is good!\n",
            "The lyrics is poor!\n"
          ]
        }
      ]
    },
    {
      "cell_type": "markdown",
      "source": [
        "15. Write a Python function that takes a list of words and returns the length of the longest one.\n"
      ],
      "metadata": {
        "id": "diculSV3zO3z"
      }
    },
    {
      "cell_type": "code",
      "source": [
        "from functools import reduce\n",
        "\n",
        "def get_longest_length(strings_list):\n",
        "  longest_string = reduce(lambda string1, string2: string1 if len(string1) >= len(string2) else string2, strings_list)\n",
        "  return {longest_string: len(longest_string)}\n",
        "\n",
        "get_longest_length([\"asd\",\"asdf\",\"asdfa\"])"
      ],
      "metadata": {
        "colab": {
          "base_uri": "https://localhost:8080/"
        },
        "id": "LopdINQ_zPTq",
        "outputId": "ac43759b-c9cb-4714-9c57-2f5a265c10c0"
      },
      "execution_count": null,
      "outputs": [
        {
          "output_type": "execute_result",
          "data": {
            "text/plain": [
              "{'asdfa': 5}"
            ]
          },
          "metadata": {},
          "execution_count": 100
        }
      ]
    },
    {
      "cell_type": "markdown",
      "source": [
        "16. Write a Python program to test whether an input is an integer.\n"
      ],
      "metadata": {
        "id": "Md8W9XgV0zd1"
      }
    },
    {
      "cell_type": "code",
      "source": [
        "def is_int(obj):\n",
        "  return isinstance(obj, int)\n",
        "\n",
        "is_int(1.2)"
      ],
      "metadata": {
        "colab": {
          "base_uri": "https://localhost:8080/"
        },
        "id": "PhRWTIcj0ztr",
        "outputId": "8565e83e-435b-4043-c5cd-013b0bf9599e"
      },
      "execution_count": null,
      "outputs": [
        {
          "output_type": "execute_result",
          "data": {
            "text/plain": [
              "False"
            ]
          },
          "metadata": {},
          "execution_count": 103
        }
      ]
    },
    {
      "cell_type": "markdown",
      "source": [
        "17. Write a Python program to sort (ascending and descending) a dictionary by value.\n"
      ],
      "metadata": {
        "id": "2AZiqUml1Um8"
      }
    },
    {
      "cell_type": "code",
      "source": [
        "def sort_dict(dictionary, asc=True):\n",
        "  return sorted(dictionary.items(), key=lambda x:x[1]) if asc==True else sorted(dictionary.items(), key=lambda x:x[1], reverse=True)\n",
        "\n",
        "print(sort_dict({\"asd\": 3, \"asdsa\": 12, \"asdadsa\": 1}))\n"
      ],
      "metadata": {
        "colab": {
          "base_uri": "https://localhost:8080/"
        },
        "id": "jeA-Uh2C1U1M",
        "outputId": "bb36dee9-4481-4047-dce8-8f54903732f6"
      },
      "execution_count": null,
      "outputs": [
        {
          "output_type": "stream",
          "name": "stdout",
          "text": [
            "[('asdadsa', 1), ('asd', 3), ('asdsa', 12)]\n"
          ]
        }
      ]
    },
    {
      "cell_type": "markdown",
      "source": [
        "8. Write a Python program to sort (ascending and descending) a dictionary by key value.\n"
      ],
      "metadata": {
        "id": "nZP92Q432hN7"
      }
    },
    {
      "cell_type": "code",
      "source": [
        "def sort_dict(dictionary, asc=True):\n",
        "  return sorted(dictionary.items(), key=lambda x:x[0]) if asc==True else sorted(dictionary.items(), key=lambda x:x[0], reverse=True)\n",
        "\n",
        "print(sort_dict({\"dddasd\": 3, \"asdsa\": 12, \"fffasdadsa\": 1}))"
      ],
      "metadata": {
        "colab": {
          "base_uri": "https://localhost:8080/"
        },
        "id": "i8M6YibH2hmR",
        "outputId": "0d11b1b4-9380-4e06-d2b0-31d159a0cadb"
      },
      "execution_count": null,
      "outputs": [
        {
          "output_type": "stream",
          "name": "stdout",
          "text": [
            "[('asdsa', 12), ('dddasd', 3), ('fffasdadsa', 1)]\n"
          ]
        }
      ]
    },
    {
      "cell_type": "markdown",
      "source": [
        "19. Write a Python program to add key to a dictionary.\n"
      ],
      "metadata": {
        "id": "p2uBQgQC2r7Z"
      }
    },
    {
      "cell_type": "code",
      "source": [
        "def add_key(dictionary, newkey, newvalue):\n",
        "  dictionary[newkey]=newvalue\n",
        "  return dictionary\n",
        "\n",
        "dictionary = {\"asd\": 12}\n",
        "newkey = \"asdda\"\n",
        "newvalue = 15\n",
        "\n",
        "add_key(dictionary, newkey, newvalue)"
      ],
      "metadata": {
        "colab": {
          "base_uri": "https://localhost:8080/"
        },
        "id": "q5p60HfL2sM7",
        "outputId": "f5ca9fda-67da-498a-a544-fb66134e6e3b"
      },
      "execution_count": null,
      "outputs": [
        {
          "output_type": "execute_result",
          "data": {
            "text/plain": [
              "{'asd': 12, 'asdda': 15}"
            ]
          },
          "metadata": {},
          "execution_count": 116
        }
      ]
    },
    {
      "cell_type": "markdown",
      "source": [
        "20. Write a Python program to concatenate following dictionaries to create a new one.\n",
        "\n",
        "\n",
        "```\n",
        "Sample Dictionary :\n",
        "dic1={1:10, 2:20}\n",
        "dic2={3:30, 4:40}\n",
        "dic3={5:50,6:60}\n",
        "Expected Result : {1: 10, 2: 20, 3: 30, 4: 40, 5: 50, 6: 60}\n",
        "```\n",
        "\n"
      ],
      "metadata": {
        "id": "qipai1fE5XwL"
      }
    },
    {
      "cell_type": "code",
      "source": [
        "def concatenate_dicts(*dicts):\n",
        "  final_dic = dicts[0]\n",
        "  for i in range(1, len(dicts)): final_dic.update(dicts[i])\n",
        "  return final_dic\n",
        "\n",
        "\n",
        "dic1={1:10, 2:20}\n",
        "dic2={3:30, 4:40}\n",
        "dic3={5:50,6:60}\n",
        "\n",
        "print(concatenate_dicts(dic1, dic2, dic3))"
      ],
      "metadata": {
        "colab": {
          "base_uri": "https://localhost:8080/"
        },
        "id": "05nHNu_t5YEt",
        "outputId": "d6ff9556-31be-4549-9cc4-209543f9670e"
      },
      "execution_count": null,
      "outputs": [
        {
          "output_type": "stream",
          "name": "stdout",
          "text": [
            "{1: 10, 2: 20, 3: 30, 4: 40, 5: 50, 6: 60}\n"
          ]
        }
      ]
    },
    {
      "cell_type": "markdown",
      "source": [
        "21. Write a Python program to check if a given key already exists in a dictionary.\n"
      ],
      "metadata": {
        "id": "O3OEw_hxAQpW"
      }
    },
    {
      "cell_type": "code",
      "source": [
        "def is_key_in_dict(key, dic):\n",
        "  return key in dic\n",
        "\n",
        "dic = {\"asd\": 12}\n",
        "print(is_key_in_dict(\"qqq\", dic))"
      ],
      "metadata": {
        "colab": {
          "base_uri": "https://localhost:8080/"
        },
        "id": "f0jvkBQHAQ9C",
        "outputId": "f5f77c57-9604-4735-9106-d4531ed556e6"
      },
      "execution_count": null,
      "outputs": [
        {
          "output_type": "stream",
          "name": "stdout",
          "text": [
            "True\n"
          ]
        }
      ]
    },
    {
      "cell_type": "markdown",
      "source": [
        "22. Write a Python program to iterate over dictionaries using for loops.\n"
      ],
      "metadata": {
        "id": "sb083BbKBBy_"
      }
    },
    {
      "cell_type": "code",
      "source": [
        "def iterate_over_dict(dic):\n",
        "  {print(\"{}:{}\".format(key, value)) for (key, value) in dic.items()}\n",
        "\n",
        "test_dict = {\"a\": 1, \"b\": 2, \"c\": 3, \"d\": \"no way\"}\n",
        "iterate_over_dict(test_dict)"
      ],
      "metadata": {
        "colab": {
          "base_uri": "https://localhost:8080/"
        },
        "id": "RoekC7nUBCKk",
        "outputId": "306f2342-d5d6-46ad-f90b-e30ff1164923"
      },
      "execution_count": null,
      "outputs": [
        {
          "output_type": "stream",
          "name": "stdout",
          "text": [
            "a:1\n",
            "b:2\n",
            "c:3\n",
            "d:no way\n"
          ]
        }
      ]
    },
    {
      "cell_type": "markdown",
      "source": [
        "23. Write a Python program to remove duplicates from a list.\n"
      ],
      "metadata": {
        "id": "widlJkqSCLAu"
      }
    },
    {
      "cell_type": "code",
      "source": [
        "def remove_duplicates(list_):\n",
        "  #недописал\n",
        "  # return list(filter(lambda element, index: element not in list_, (list_, range(len(list_)))))\n",
        "\n",
        "\n",
        "  cache = []\n",
        "  for value in list_: cache.append(value) if value not in cache else None, list_\n",
        "  return cache\n",
        "\n",
        "test_list = [1, 1, 3, 5, 3, 7, 10, 123, 12, 1231]\n",
        "print(remove_duplicates(test_list))"
      ],
      "metadata": {
        "colab": {
          "base_uri": "https://localhost:8080/"
        },
        "id": "HGJrcPONCLOy",
        "outputId": "608ea61b-172f-4112-f1f1-e1d2f35e5605"
      },
      "execution_count": null,
      "outputs": [
        {
          "output_type": "stream",
          "name": "stdout",
          "text": [
            "[1, 3, 5, 7, 10, 123, 12, 1231]\n"
          ]
        }
      ]
    },
    {
      "cell_type": "markdown",
      "source": [
        "24. Write a Python program to check a list is empty or not.\n"
      ],
      "metadata": {
        "id": "qhkj6Ot-G2aB"
      }
    },
    {
      "cell_type": "code",
      "source": [
        "def is_list_empty(list_):\n",
        "  return True if list_ == [] else False\n",
        "  # return True if len(list_) == 0 else False\n",
        "test_list = [1, 1, 3, 5, 3, 7, 10, 123, 12, 1231]\n",
        "test_list1 = []\n",
        "\n",
        "is_list_empty(test_list1)"
      ],
      "metadata": {
        "colab": {
          "base_uri": "https://localhost:8080/"
        },
        "id": "4BqImmgwG2lp",
        "outputId": "9678cd72-9d43-417d-fc85-5727c79c920d"
      },
      "execution_count": null,
      "outputs": [
        {
          "output_type": "execute_result",
          "data": {
            "text/plain": [
              "True"
            ]
          },
          "metadata": {},
          "execution_count": 203
        }
      ]
    },
    {
      "cell_type": "markdown",
      "source": [
        "25. Write a Python program to clone or copy a list.\n"
      ],
      "metadata": {
        "id": "31Gu_gWHHbqC"
      }
    },
    {
      "cell_type": "code",
      "source": [
        "def copy_list(list_):\n",
        "  return list_.copy()\n",
        "  # return list_, list_.copy()\n",
        "test_list = [1, 1, 3, 5, 3, 7, 10, 123, 12, 1231]\n",
        "\n",
        "copy_list(test_list)"
      ],
      "metadata": {
        "colab": {
          "base_uri": "https://localhost:8080/"
        },
        "id": "MS0zd7vWHb_m",
        "outputId": "dea11104-6f1a-4c94-91c7-403329d172a0"
      },
      "execution_count": null,
      "outputs": [
        {
          "output_type": "execute_result",
          "data": {
            "text/plain": [
              "[1, 1, 3, 5, 3, 7, 10, 123, 12, 1231]"
            ]
          },
          "metadata": {},
          "execution_count": 146
        }
      ]
    },
    {
      "cell_type": "markdown",
      "source": [
        "26. Write a Python program to remove the nth index character from a non empty string.\n"
      ],
      "metadata": {
        "id": "mbxnaD1QH36c"
      }
    },
    {
      "cell_type": "code",
      "source": [
        "def remove_nth_character(string, index):\n",
        "  return string[:index]+string[index+1:]\n",
        "\n",
        "string = \"hello world\"\n",
        "\n",
        "remove_nth_character(string, 0)"
      ],
      "metadata": {
        "colab": {
          "base_uri": "https://localhost:8080/",
          "height": 35
        },
        "id": "-mpzI2pLH4QL",
        "outputId": "32d23ba4-1b0f-400c-bf4a-b5d4f9f98c45"
      },
      "execution_count": null,
      "outputs": [
        {
          "output_type": "execute_result",
          "data": {
            "text/plain": [
              "'ello world'"
            ],
            "application/vnd.google.colaboratory.intrinsic+json": {
              "type": "string"
            }
          },
          "metadata": {},
          "execution_count": 149
        }
      ]
    },
    {
      "cell_type": "markdown",
      "source": [
        "27. Write a Python program to change a given string to a new string where the first and last chars have been exchanged.\n"
      ],
      "metadata": {
        "id": "XmX0iaCwItXS"
      }
    },
    {
      "cell_type": "code",
      "source": [
        "def swap_first_last_values(string):\n",
        "  return string[-1]+string[1:-1]+string[0] if len(string)>1 else string\n",
        "\n",
        "swap_first_last_values(\"as\")"
      ],
      "metadata": {
        "colab": {
          "base_uri": "https://localhost:8080/",
          "height": 35
        },
        "id": "4UaFt4GKIt4V",
        "outputId": "8e25839a-e3c4-4920-fd81-01e3b1987a4e"
      },
      "execution_count": null,
      "outputs": [
        {
          "output_type": "execute_result",
          "data": {
            "text/plain": [
              "'sa'"
            ],
            "application/vnd.google.colaboratory.intrinsic+json": {
              "type": "string"
            }
          },
          "metadata": {},
          "execution_count": 160
        }
      ]
    },
    {
      "cell_type": "markdown",
      "source": [
        "28. Write a Python program to remove the characters which have odd index values of a given string."
      ],
      "metadata": {
        "id": "eCubN7vwKvXy"
      }
    },
    {
      "cell_type": "code",
      "source": [
        "def remove_odds(string):\n",
        "  final_string = \"\"\n",
        "  newstring = [string[i] for i in range(len(string)) if i%2!=0]\n",
        "  return \"\".join(newstring)\n",
        "\n",
        "remove_odds(\"123456789\")\n"
      ],
      "metadata": {
        "colab": {
          "base_uri": "https://localhost:8080/",
          "height": 35
        },
        "id": "BJd-jLDfKv2Z",
        "outputId": "cc3a6baa-eadf-49e9-da6a-df26a94a4fee"
      },
      "execution_count": null,
      "outputs": [
        {
          "output_type": "execute_result",
          "data": {
            "text/plain": [
              "'2468'"
            ],
            "application/vnd.google.colaboratory.intrinsic+json": {
              "type": "string"
            }
          },
          "metadata": {},
          "execution_count": 164
        }
      ]
    },
    {
      "cell_type": "markdown",
      "source": [
        "29. Write a Python program to find the list of words that are longer than n from a given list of words.\n"
      ],
      "metadata": {
        "id": "M1u_-5SYPHgO"
      }
    },
    {
      "cell_type": "code",
      "source": [
        "def long_words(n, string):\n",
        "  return list(filter(lambda word: len(word) > n, string.split(\" \")))\n",
        "\n",
        "string = \"hello patch lol xd howdy heroic\"\n",
        "long_words(4, string)"
      ],
      "metadata": {
        "colab": {
          "base_uri": "https://localhost:8080/"
        },
        "id": "hBQ9vSIHPH5k",
        "outputId": "ddc64770-3ad2-4818-cdfb-0eaf873ff482"
      },
      "execution_count": null,
      "outputs": [
        {
          "output_type": "execute_result",
          "data": {
            "text/plain": [
              "['hello', 'patch', 'howdy', 'heroic']"
            ]
          },
          "metadata": {},
          "execution_count": 165
        }
      ]
    },
    {
      "cell_type": "markdown",
      "source": [
        "30. Write a Python program to count the occurrences of each word in a given sentence.\n"
      ],
      "metadata": {
        "id": "9yEj8N25RP1C"
      }
    },
    {
      "cell_type": "code",
      "source": [
        "def count_words_count(string):\n",
        "  return dict(map(lambda word: (word, string.split().count(word)), string.split()))\n",
        "\n",
        "string = \"Карл у Клары украл кораллы. Клара у Карл украла кларнет\"\n",
        "string1 = \"Вчера мы ходили в цирк. Как же было там смешно! Сначала выступал очень смешной клоун. Его смешная походка и смешные шутки заставили нас смеяться до слез. Потоом на сцене появились смешные обезьянки и они нас заставили смеяться до слёз. Я рада вчерашнему дню мне он очень понравился!\"\n",
        "count_words_count(string1)"
      ],
      "metadata": {
        "colab": {
          "base_uri": "https://localhost:8080/"
        },
        "id": "Co7fJgxxRQFO",
        "outputId": "669d414c-3d88-4ab6-85e5-d2177dfce8ce"
      },
      "execution_count": null,
      "outputs": [
        {
          "output_type": "execute_result",
          "data": {
            "text/plain": [
              "{'Вчера': 1,\n",
              " 'мы': 1,\n",
              " 'ходили': 1,\n",
              " 'в': 1,\n",
              " 'цирк.': 1,\n",
              " 'Как': 1,\n",
              " 'же': 1,\n",
              " 'было': 1,\n",
              " 'там': 1,\n",
              " 'смешно!': 1,\n",
              " 'Сначала': 1,\n",
              " 'выступал': 1,\n",
              " 'очень': 2,\n",
              " 'смешной': 1,\n",
              " 'клоун.': 1,\n",
              " 'Его': 1,\n",
              " 'смешная': 1,\n",
              " 'походка': 1,\n",
              " 'и': 2,\n",
              " 'смешные': 2,\n",
              " 'шутки': 1,\n",
              " 'заставили': 2,\n",
              " 'нас': 2,\n",
              " 'смеяться': 2,\n",
              " 'до': 2,\n",
              " 'слез.': 1,\n",
              " 'Потоом': 1,\n",
              " 'на': 1,\n",
              " 'сцене': 1,\n",
              " 'появились': 1,\n",
              " 'обезьянки': 1,\n",
              " 'они': 1,\n",
              " 'слёз.': 1,\n",
              " 'Я': 1,\n",
              " 'рада': 1,\n",
              " 'вчерашнему': 1,\n",
              " 'дню': 1,\n",
              " 'мне': 1,\n",
              " 'он': 1,\n",
              " 'понравился!': 1}"
            ]
          },
          "metadata": {},
          "execution_count": 169
        }
      ]
    },
    {
      "cell_type": "markdown",
      "source": [
        "31. Write a Python function that takes two lists and returns True if they have at least one common member."
      ],
      "metadata": {
        "id": "VLeXy5kcT4Hh"
      }
    },
    {
      "cell_type": "code",
      "source": [
        "def is_any_common(list1, list2):\n",
        "  return any([True for element in list1 if element in list2])\n",
        "\n",
        "list1 = [1, 2, 3, 4, 5, 6, 7]\n",
        "list2 = [7, 8, 9]\n",
        "\n",
        "is_any_common(list1, list2)"
      ],
      "metadata": {
        "colab": {
          "base_uri": "https://localhost:8080/"
        },
        "id": "WIwGc9yHT4YX",
        "outputId": "02092197-c275-4f63-c9e3-674682158839"
      },
      "execution_count": null,
      "outputs": [
        {
          "output_type": "execute_result",
          "data": {
            "text/plain": [
              "True"
            ]
          },
          "metadata": {},
          "execution_count": 172
        }
      ]
    }
  ]
}