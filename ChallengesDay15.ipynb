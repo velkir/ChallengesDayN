{
  "nbformat": 4,
  "nbformat_minor": 0,
  "metadata": {
    "colab": {
      "provenance": [],
      "authorship_tag": "ABX9TyPkL1IAKcgEyqjloL+YDQog",
      "include_colab_link": true
    },
    "kernelspec": {
      "name": "python3",
      "display_name": "Python 3"
    },
    "language_info": {
      "name": "python"
    }
  },
  "cells": [
    {
      "cell_type": "markdown",
      "metadata": {
        "id": "view-in-github",
        "colab_type": "text"
      },
      "source": [
        "<a href=\"https://colab.research.google.com/github/velkir/ChallengesDayN/blob/main/ChallengesDay15.ipynb\" target=\"_parent\"><img src=\"https://colab.research.google.com/assets/colab-badge.svg\" alt=\"Open In Colab\"/></a>"
      ]
    },
    {
      "cell_type": "markdown",
      "source": [
        "# Exercise 1\n",
        "\n",
        "The following array is given:\n",
        "\n",
        "```\n",
        "A = np.array([['id', 'price'],\n",
        "              ['001', 14.99],\n",
        "              ['002', 4.99],\n",
        "              ['003', 7.99],\n",
        "              ['004', 2.49],\n",
        "              ['005', 1.49]])\n",
        "```\n",
        "\n",
        "Starting with the second row of this array, randomly shuffle the rows and print result to the console.\n",
        "\n",
        "Expected output:\n",
        "```\n",
        "[['id' 'price']\n",
        " ['002' '4.99']\n",
        " ['005' '1.49']\n",
        " ['003' '7.99']\n",
        " ['001' '14.99']\n",
        " ['004' '2.49']]\n",
        "```\n",
        "\n"
      ],
      "metadata": {
        "id": "XQq9vQi6ZC8X"
      }
    },
    {
      "cell_type": "code",
      "execution_count": 8,
      "metadata": {
        "colab": {
          "base_uri": "https://localhost:8080/"
        },
        "id": "6fneIZcfY9kt",
        "outputId": "c4c5521c-7df4-478f-dc12-f0a5ec65f104"
      },
      "outputs": [
        {
          "output_type": "stream",
          "name": "stdout",
          "text": [
            "[['id' 'price']\n",
            " ['005' '1.49']\n",
            " ['001' '14.99']\n",
            " ['003' '7.99']\n",
            " ['004' '2.49']\n",
            " ['002' '4.99']]\n"
          ]
        }
      ],
      "source": [
        "import numpy as np\n",
        "import pandas as pd\n",
        "\n",
        "A = np.array([['id', 'price'],\n",
        "              ['001', 14.99],\n",
        "              ['002', 4.99],\n",
        "              ['003', 7.99],\n",
        "              ['004', 2.49],\n",
        "              ['005', 1.49]])\n",
        "\n",
        "np.random.shuffle(A[1:, :])\n",
        "print(A)"
      ]
    },
    {
      "cell_type": "markdown",
      "source": [
        "# Exercise 2\n",
        "\n",
        "The following array is given:\n",
        "\n",
        "`A = np.array([0.2, 0.15, 0.1, 0.3, 0.2, 0.05])`\n",
        "Return a list of indexes that sorts this array in ascending order and print it to the console.\n",
        "\n",
        "Expected result:\n",
        "\n",
        "`[5 2 1 0 4 3]`"
      ],
      "metadata": {
        "id": "dkxb52o0ZaTW"
      }
    },
    {
      "cell_type": "code",
      "source": [
        "A = np.array([0.2, 0.15, 0.1, 0.3, 0.2, 0.05])\n",
        "\n",
        "print(np.argsort(A))"
      ],
      "metadata": {
        "colab": {
          "base_uri": "https://localhost:8080/"
        },
        "id": "PL9hT4SaZmNJ",
        "outputId": "1d63465b-18e9-4688-eae6-d30cc0398d3f"
      },
      "execution_count": 11,
      "outputs": [
        {
          "output_type": "stream",
          "name": "stdout",
          "text": [
            "[5 2 1 0 4 3]\n"
          ]
        }
      ]
    },
    {
      "cell_type": "markdown",
      "source": [
        "# Exercise 3\n",
        "The following array is given:\n",
        "\n",
        "`A = np.random.randn(10, 8)`\n",
        "Round the values of this array to three decimal places and print result to the console.\n",
        "Expected output:\n",
        "\n",
        "```\n",
        "[[ 0.497 -0.138  0.648  1.523 -0.234 -0.234  1.579  0.767]\n",
        " [-0.469  0.543 -0.463 -0.466  0.242 -1.913 -1.725 -0.562]\n",
        " [-1.013  0.314 -0.908 -1.412  1.466 -0.226  0.068 -1.425]\n",
        " [-0.544  0.111 -1.151  0.376 -0.601 -0.292 -0.602  1.852]\n",
        " [-0.013 -1.058  0.823 -1.221  0.209 -1.96  -1.328  0.197]\n",
        " [ 0.738  0.171 -0.116 -0.301 -1.479 -0.72  -0.461  1.057]\n",
        " [ 0.344 -1.763  0.324 -0.385 -0.677  0.612  1.031  0.931]\n",
        " [-0.839 -0.309  0.331  0.976 -0.479 -0.186 -1.106 -1.196]\n",
        " [ 0.813  1.356 -0.072  1.004  0.362 -0.645  0.361  1.538]\n",
        " [-0.036  1.565 -2.62   0.822  0.087 -0.299  0.092 -1.988]]\n",
        "```"
      ],
      "metadata": {
        "id": "XcSqZ3PPZdcZ"
      }
    },
    {
      "cell_type": "code",
      "source": [
        "np.set_printoptions(suppress=True)\n",
        "\n",
        "A = np.random.randn(10, 8)\n",
        "# print(A)\n",
        "\n",
        "A_rounded = np.round(A, 3)\n",
        "print(A_rounded)"
      ],
      "metadata": {
        "colab": {
          "base_uri": "https://localhost:8080/"
        },
        "id": "yChxeEiJZlrY",
        "outputId": "6aedd813-85c3-40f0-f068-be395c9071d3"
      },
      "execution_count": 15,
      "outputs": [
        {
          "output_type": "stream",
          "name": "stdout",
          "text": [
            "[[-0.012  0.288  1.162 -0.983  0.545 -1.552 -1.577 -1.344]\n",
            " [ 1.132 -1.092  0.3    0.136 -1.323  0.937  1.98  -0.731]\n",
            " [ 2.243 -2.431  0.676 -0.417 -0.112  0.167 -0.376  1.578]\n",
            " [ 0.896 -0.614  0.896 -0.716  1.605  1.403 -0.865 -0.01 ]\n",
            " [ 1.741  0.596 -0.107  0.44   0.437 -0.108  0.239 -0.689]\n",
            " [ 0.656 -1.437 -0.85  -0.714 -0.033 -0.639 -0.184  0.328]\n",
            " [-1.131  2.125  0.586 -2.283  0.873 -0.305  0.581 -1.17 ]\n",
            " [-0.228  0.241  0.964  0.955  0.926 -0.661 -1.004 -0.166]\n",
            " [-0.039 -1.116  0.937  0.432 -0.656  1.401 -0.976 -0.803]\n",
            " [-1.13  -0.084 -0.716  2.327  0.843 -1.723 -0.033  0.838]]\n"
          ]
        }
      ]
    },
    {
      "cell_type": "markdown",
      "source": [
        "# Exercise 4\n",
        "Calculate  the roots of the following polynomial:\n",
        "\n",
        "`W(x) = 4 * x**2 + 5 * x + 1`\n",
        "\n",
        "In response, print these roots to the console.\n",
        "\n",
        "Expected result:\n",
        "`[-1.   -0.25]`"
      ],
      "metadata": {
        "id": "SPfsnotKZfvE"
      }
    },
    {
      "cell_type": "code",
      "source": [
        "print(np.roots([4, 5, 1]))"
      ],
      "metadata": {
        "colab": {
          "base_uri": "https://localhost:8080/"
        },
        "id": "aOFaPl3SZlK5",
        "outputId": "21f3d32f-8b66-47e2-b3be-69803f9db01c"
      },
      "execution_count": 20,
      "outputs": [
        {
          "output_type": "stream",
          "name": "stdout",
          "text": [
            "[-1.   -0.25]\n"
          ]
        }
      ]
    }
  ]
}