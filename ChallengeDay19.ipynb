{
  "nbformat": 4,
  "nbformat_minor": 0,
  "metadata": {
    "colab": {
      "provenance": [],
      "authorship_tag": "ABX9TyMeWeqsjZuwkqb7FvKwafOW",
      "include_colab_link": true
    },
    "kernelspec": {
      "name": "python3",
      "display_name": "Python 3"
    },
    "language_info": {
      "name": "python"
    }
  },
  "cells": [
    {
      "cell_type": "markdown",
      "metadata": {
        "id": "view-in-github",
        "colab_type": "text"
      },
      "source": [
        "<a href=\"https://colab.research.google.com/github/velkir/ChallengesDayN/blob/main/ChallengeDay19.ipynb\" target=\"_parent\"><img src=\"https://colab.research.google.com/assets/colab-badge.svg\" alt=\"Open In Colab\"/></a>"
      ]
    },
    {
      "cell_type": "markdown",
      "source": [
        "#ChallengesDay19\n",
        "\n",
        "\n",
        "Exercise 1\n",
        "The following array is given:\n",
        "\n",
        "```\n",
        "A = np.array([['#summer#time#mood'],\n",
        "              ['#sport#time']])\n",
        "```\n",
        "\n",
        "\n",
        "Replace all # characters with spaces and then strip all unnecessary white characters around the text as shown below. In response, print this array to the console.\n",
        "\n",
        "Expected result:\n",
        "```\n",
        "[['summer time mood']\n",
        " ['sport time']]\n",
        "```"
      ],
      "metadata": {
        "id": "nVuW8UUP79EY"
      }
    },
    {
      "cell_type": "code",
      "execution_count": null,
      "metadata": {
        "colab": {
          "base_uri": "https://localhost:8080/"
        },
        "id": "vj2yeRVv77tc",
        "outputId": "f8da40b7-0d39-4898-b7a6-78e59caf4d67"
      },
      "outputs": [
        {
          "output_type": "execute_result",
          "data": {
            "text/plain": [
              "array([['summer time mood'],\n",
              "       ['sport time']], dtype='<U17')"
            ]
          },
          "metadata": {},
          "execution_count": 4
        }
      ],
      "source": [
        "import numpy as np\n",
        "\n",
        "A = np.array([['#summer#time#mood'],\n",
        "              ['#sport#time']])\n",
        "A = np.char.replace(A, \"#\", \" \")\n",
        "A = np.char.lstrip(A)\n",
        "A"
      ]
    },
    {
      "cell_type": "markdown",
      "source": [
        "Exercise 2\n",
        "The following array is given:\n",
        "\n",
        "```\n",
        "A = np.array(\n",
        "    [\n",
        "        ['#summer#time#mood', '#vibe'],\n",
        "        ['#sport#time', '#good#time'],\n",
        "        ['#event#summer', '#fast#move'],\n",
        "    ]\n",
        ")\n",
        "```\n",
        "\n",
        "\n",
        "Count the number of occurrences of the word 'time' in each element of this array.\n",
        "\n",
        "Expected output:\n",
        "```\n",
        "[[1 0]\n",
        " [1 1]\n",
        " [0 0]]\n",
        "```\n",
        "\n"
      ],
      "metadata": {
        "id": "MvQ2pTDv7_dE"
      }
    },
    {
      "cell_type": "code",
      "source": [
        "A = np.array(\n",
        "    [\n",
        "        ['#summer#time#mood', '#vibe'],\n",
        "        ['#sport#time', '#good#time'],\n",
        "        ['#event#summer', '#fast#move'],\n",
        "    ]\n",
        ")\n",
        "\n",
        "print(np.char.count(A, \"time\"))"
      ],
      "metadata": {
        "colab": {
          "base_uri": "https://localhost:8080/"
        },
        "id": "gdeSbwo2_cXb",
        "outputId": "f2c22355-7ba6-4093-eb8c-5c99a92661d1"
      },
      "execution_count": null,
      "outputs": [
        {
          "output_type": "stream",
          "name": "stdout",
          "text": [
            "[[1 0]\n",
            " [1 1]\n",
            " [0 0]]\n"
          ]
        }
      ]
    },
    {
      "cell_type": "markdown",
      "source": [
        "Exercise 3\n",
        "The following text is given:\n",
        "\n",
        "```\n",
        "text = \"\"\"ALIOR    PLALIOR00045    88 860 000    1 386 216 000    0,891    2,16    14\n",
        "CCC    PLCCC0000016    27 918 000    1 292 603 400    0,831    5,28    42\n",
        "CDPROJEKT    PLOPTTC00011    67 348 000    22 864 646 000    14,702    7,39    7\n",
        "CYFRPLSAT    PLCFRPT00013    275 301 000    6 854 994 900    4,408    1,17    14\n",
        "DINOPL    PLDINPL00011    47 937 000    8 916 282 000    5,733    9,13    12\n",
        "JSW    PLJSW0000015    52 636 000    716 902 320    0,461    1,51    24\n",
        "KGHM    PLKGHM000017    136 410 000    9 881 540 400    6,354    4,78    8\n",
        "LOTOS    PLLOTOS00025    86 543 000    5 609 717 260    3,607    2,91    16\n",
        "LPP    PLLPP0000011    1 306 000    7 444 200 000    4,787    1,43    19\n",
        "MBANK    PLBRE0000012    12 997 000    2 830 746 600    1,820    0,42    24\n",
        "ORANGEPL    PLTLKPL00017    647 357 000    4 285 503 340    2,756    1,16    13\n",
        "PEKAO    PLPEKAO00016    176 379 000    9 619 710 660    6,185    5,27    9\n",
        "PGE    PLPGER000010    796 776 000    3 561 588 720    2,290    2,88    18\n",
        "PGNIG    PLPGNIG00014    1 624 608 000    6 072 784 704    3,905    1,56    12\n",
        "PKNORLEN    PLPKN0000018    289 049 000    17 701 360 760    11,382    12,44    8\n",
        "PKOBP    PLPKO0000016    857 593 000    18 807 014 490    12,093    10,49    9\n",
        "PLAY    LU1642887738    114 151 000    3 696 209 380    2,377    1,47    16\n",
        "PZU    PLPZU0000011    568 305 000    17 515 160 100    11,262    6,64    6\n",
        "SANPL    PLBZ00000044    33 207 000    5 213 499 000    3,352    1,91    18\n",
        "TAURONPE    PLTAURN00011    1 043 590 000    1 252 308 000    0,805    1,21    33\"\"\"\n",
        "```\n",
        "\n",
        "\n",
        "\n",
        "Columns mean:\n",
        "\n",
        "`Instrument | ISIN code | Package | Package (PLN) | Share in portfolio (%) | Share in trading shares and PDAs per session (%) | Average spread per session`\n",
        "\n",
        "Split text into lines. Then split each line by the tab character \\t and create an array (without headers) containing the following data as shown below. Assign this array to the result variable and print it to the console.\n",
        "\n",
        "```\n",
        "[['ALIOR' 'PLALIOR00045' '88 860 000' '1 386 216 000' '0,891' '2,16' '14']\n",
        " ['CCC' 'PLCCC0000016' '27 918 000' '1 292 603 400' '0,831' '5,28' '42']\n",
        " ['CDPROJEKT' 'PLOPTTC00011' '67 348 000' '22 864 646 000' '14,702' '7,39' '7']\n",
        " ['CYFRPLSAT' 'PLCFRPT00013' '275 301 000' '6 854 994 900' '4,408' '1,17' '14']\n",
        " ['DINOPL' 'PLDINPL00011' '47 937 000' '8 916 282 000' '5,733' '9,13' '12']\n",
        " ['JSW' 'PLJSW0000015' '52 636 000' '716 902 320' '0,461' '1,51' '24']\n",
        " ['KGHM' 'PLKGHM000017' '136 410 000' '9 881 540 400' '6,354' '4,78' '8']\n",
        " ['LOTOS' 'PLLOTOS00025' '86 543 000' '5 609 717 260' '3,607' '2,91' '16']\n",
        " ['LPP' 'PLLPP0000011' '1 306 000' '7 444 200 000' '4,787' '1,43' '19']\n",
        " ['MBANK' 'PLBRE0000012' '12 997 000' '2 830 746 600' '1,820' '0,42' '24']\n",
        " ['ORANGEPL' 'PLTLKPL00017' '647 357 000' '4 285 503 340' '2,756' '1,16' '13']\n",
        " ['PEKAO' 'PLPEKAO00016' '176 379 000' '9 619 710 660' '6,185' '5,27' '9']\n",
        " ['PGE' 'PLPGER000010' '796 776 000' '3 561 588 720' '2,290' '2,88' '18']\n",
        " ['PGNIG' 'PLPGNIG00014' '1 624 608 000' '6 072 784 704' '3,905' '1,56' '12']\n",
        " ['PKNORLEN' 'PLPKN0000018' '289 049 000' '17 701 360 760' '11,382' '12,44' '8']\n",
        " ['PKOBP' 'PLPKO0000016' '857 593 000' '18 807 014 490' '12,093' '10,49' '9']\n",
        " ['PLAY' 'LU1642887738' '114 151 000' '3 696 209 380' '2,377' '1,47' '16']\n",
        " ['PZU' 'PLPZU0000011' '568 305 000' '17 515 160 100' '11,262' '6,64' '6']\n",
        " ['SANPL' 'PLBZ00000044' '33 207 000' '5 213 499 000' '3,352' '1,91' '18']\n",
        " ['TAURONPE' 'PLTAURN00011' '1 043 590 000' '1 252 308 000' '0,805' '1,21' '33']]\n",
        "```\n",
        "\n",
        "\n"
      ],
      "metadata": {
        "id": "eilvu8nb8DLD"
      }
    },
    {
      "cell_type": "code",
      "source": [
        "text = \"\"\"ALIOR    PLALIOR00045    88 860 000    1 386 216 000    0,891    2,16    14\n",
        "CCC    PLCCC0000016    27 918 000    1 292 603 400    0,831    5,28    42\n",
        "CDPROJEKT    PLOPTTC00011    67 348 000    22 864 646 000    14,702    7,39    7\n",
        "CYFRPLSAT    PLCFRPT00013    275 301 000    6 854 994 900    4,408    1,17    14\n",
        "DINOPL    PLDINPL00011    47 937 000    8 916 282 000    5,733    9,13    12\n",
        "JSW    PLJSW0000015    52 636 000    716 902 320    0,461    1,51    24\n",
        "KGHM    PLKGHM000017    136 410 000    9 881 540 400    6,354    4,78    8\n",
        "LOTOS    PLLOTOS00025    86 543 000    5 609 717 260    3,607    2,91    16\n",
        "LPP    PLLPP0000011    1 306 000    7 444 200 000    4,787    1,43    19\n",
        "MBANK    PLBRE0000012    12 997 000    2 830 746 600    1,820    0,42    24\n",
        "ORANGEPL    PLTLKPL00017    647 357 000    4 285 503 340    2,756    1,16    13\n",
        "PEKAO    PLPEKAO00016    176 379 000    9 619 710 660    6,185    5,27    9\n",
        "PGE    PLPGER000010    796 776 000    3 561 588 720    2,290    2,88    18\n",
        "PGNIG    PLPGNIG00014    1 624 608 000    6 072 784 704    3,905    1,56    12\n",
        "PKNORLEN    PLPKN0000018    289 049 000    17 701 360 760    11,382    12,44    8\n",
        "PKOBP    PLPKO0000016    857 593 000    18 807 014 490    12,093    10,49    9\n",
        "PLAY    LU1642887738    114 151 000    3 696 209 380    2,377    1,47    16\n",
        "PZU    PLPZU0000011    568 305 000    17 515 160 100    11,262    6,64    6\n",
        "SANPL    PLBZ00000044    33 207 000    5 213 499 000    3,352    1,91    18\n",
        "TAURONPE    PLTAURN00011    1 043 590 000    1 252 308 000    0,805    1,21    33\"\"\"\n",
        "\n",
        "textlines = text.splitlines()\n",
        "textlines_edited = list(line.split(\"\\t\") for line in textlines)\n",
        "for line in textlines_edited:\n",
        "  print(line)"
      ],
      "metadata": {
        "colab": {
          "base_uri": "https://localhost:8080/"
        },
        "id": "P7nHsZM4AW3d",
        "outputId": "e5dfa0ab-35aa-4ee9-bfd9-9aa5bb215d4c"
      },
      "execution_count": null,
      "outputs": [
        {
          "output_type": "stream",
          "name": "stdout",
          "text": [
            "['ALIOR    PLALIOR00045    88 860 000    1 386 216 000    0,891    2,16    14']\n",
            "['CCC    PLCCC0000016    27 918 000    1 292 603 400    0,831    5,28    42']\n",
            "['CDPROJEKT    PLOPTTC00011    67 348 000    22 864 646 000    14,702    7,39    7']\n",
            "['CYFRPLSAT    PLCFRPT00013    275 301 000    6 854 994 900    4,408    1,17    14']\n",
            "['DINOPL    PLDINPL00011    47 937 000    8 916 282 000    5,733    9,13    12']\n",
            "['JSW    PLJSW0000015    52 636 000    716 902 320    0,461    1,51    24']\n",
            "['KGHM    PLKGHM000017    136 410 000    9 881 540 400    6,354    4,78    8']\n",
            "['LOTOS    PLLOTOS00025    86 543 000    5 609 717 260    3,607    2,91    16']\n",
            "['LPP    PLLPP0000011    1 306 000    7 444 200 000    4,787    1,43    19']\n",
            "['MBANK    PLBRE0000012    12 997 000    2 830 746 600    1,820    0,42    24']\n",
            "['ORANGEPL    PLTLKPL00017    647 357 000    4 285 503 340    2,756    1,16    13']\n",
            "['PEKAO    PLPEKAO00016    176 379 000    9 619 710 660    6,185    5,27    9']\n",
            "['PGE    PLPGER000010    796 776 000    3 561 588 720    2,290    2,88    18']\n",
            "['PGNIG    PLPGNIG00014    1 624 608 000    6 072 784 704    3,905    1,56    12']\n",
            "['PKNORLEN    PLPKN0000018    289 049 000    17 701 360 760    11,382    12,44    8']\n",
            "['PKOBP    PLPKO0000016    857 593 000    18 807 014 490    12,093    10,49    9']\n",
            "['PLAY    LU1642887738    114 151 000    3 696 209 380    2,377    1,47    16']\n",
            "['PZU    PLPZU0000011    568 305 000    17 515 160 100    11,262    6,64    6']\n",
            "['SANPL    PLBZ00000044    33 207 000    5 213 499 000    3,352    1,91    18']\n",
            "['TAURONPE    PLTAURN00011    1 043 590 000    1 252 308 000    0,805    1,21    33']\n"
          ]
        }
      ]
    }
  ]
}