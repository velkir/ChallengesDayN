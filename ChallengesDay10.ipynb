{
  "nbformat": 4,
  "nbformat_minor": 0,
  "metadata": {
    "colab": {
      "provenance": [],
      "authorship_tag": "ABX9TyMZDHKAXejcdt9Bcw9+b9Jk",
      "include_colab_link": true
    },
    "kernelspec": {
      "name": "python3",
      "display_name": "Python 3"
    },
    "language_info": {
      "name": "python"
    }
  },
  "cells": [
    {
      "cell_type": "markdown",
      "metadata": {
        "id": "view-in-github",
        "colab_type": "text"
      },
      "source": [
        "<a href=\"https://colab.research.google.com/github/velkir/ChallengesDayN/blob/main/ChallengesDay10.ipynb\" target=\"_parent\"><img src=\"https://colab.research.google.com/assets/colab-badge.svg\" alt=\"Open In Colab\"/></a>"
      ]
    },
    {
      "cell_type": "markdown",
      "source": [
        "#ChallengesDay10\n",
        "\n",
        "# Exercise 1\n",
        "The following two-dimensional array is given:\n",
        "\n",
        "```\n",
        "A = np.random.randint(low=0, high=7, size=(5, 8))\n",
        "A[:, :2] = 0\n",
        "A[:, -2:] = 1\n",
        "\n",
        "array([[0, 0, 4, 6, 2, 4, 1, 1],\n",
        "       [0, 0, 6, 2, 2, 4, 1, 1],\n",
        "       [0, 0, 1, 3, 5, 5, 1, 1],\n",
        "       [0, 0, 3, 1, 5, 4, 1, 1],\n",
        "       [0, 0, 2, 6, 1, 3, 1, 1]])\n",
        "```\n",
        "\n",
        "\n",
        "\n",
        "Split this array into three parts:\n",
        "\n",
        "*the first two columns assign to the A1 variable\n",
        "\n",
        "*the next four columns assign to the A2 variable\n",
        "\n",
        "*the last two columns assign to the A3 variable\n",
        "\n",
        "In response, print these arrays to the console as shown below.\n",
        "\n",
        "Expected result:\n",
        "\n",
        "```\n",
        "[[0 0]\n",
        " [0 0]\n",
        " [0 0]\n",
        " [0 0]\n",
        " [0 0]]\n",
        "[[4 6 2 4]\n",
        " [6 2 2 4]\n",
        " [1 3 5 5]\n",
        " [3 1 5 4]\n",
        " [2 6 1 3]]\n",
        "[[1 1]\n",
        " [1 1]\n",
        " [1 1]\n",
        " [1 1]\n",
        " [1 1]]\n",
        "```\n",
        "\n",
        "\n",
        "\n",
        "\n",
        "\n",
        "\n"
      ],
      "metadata": {
        "id": "B66ZlmH2f-7L"
      }
    },
    {
      "cell_type": "code",
      "execution_count": null,
      "metadata": {
        "colab": {
          "base_uri": "https://localhost:8080/"
        },
        "id": "nNALfpXVf98O",
        "outputId": "55a80dc1-d0f8-4f10-dee8-5092973e53ab"
      },
      "outputs": [
        {
          "output_type": "stream",
          "name": "stdout",
          "text": [
            "[[0 0]\n",
            " [0 0]\n",
            " [0 0]\n",
            " [0 0]\n",
            " [0 0]]\n",
            "[[4 3 5 0]\n",
            " [5 0 3 6]\n",
            " [6 0 2 2]\n",
            " [1 5 4 4]\n",
            " [3 3 3 1]]\n",
            "[[1 1]\n",
            " [1 1]\n",
            " [1 1]\n",
            " [1 1]\n",
            " [1 1]]\n"
          ]
        }
      ],
      "source": [
        "import numpy as np\n",
        "\n",
        "A = np.random.randint(low=0, high=7, size=(5, 8))\n",
        "A[:, :2] = 0\n",
        "A[:, -2:] = 1\n",
        "\n",
        "A\n",
        "\n",
        "B, C, D = np.split(A, indices_or_sections=[2,6], axis=1)\n",
        "\n",
        "print(B)\n",
        "print(C)\n",
        "print(D)"
      ]
    },
    {
      "cell_type": "markdown",
      "source": [
        "# Exercise 2\n",
        "The following array is given:\n",
        "\n",
        "`A = np.random.randint(low=0, high=2, size=(10, 6))`\n",
        "\n",
        "Calculate the total number of non-zero elements in this array and print it to the console.\n",
        "\n",
        "Expected result:\n",
        "`31`"
      ],
      "metadata": {
        "id": "rE3t7Z30gKTU"
      }
    },
    {
      "cell_type": "code",
      "source": [
        "A = np.random.randint(low=0, high=2, size=(10, 6))\n",
        "\n",
        "np.count_nonzero(A)"
      ],
      "metadata": {
        "colab": {
          "base_uri": "https://localhost:8080/"
        },
        "id": "bV1-DTAYpXsQ",
        "outputId": "a7eecbd8-ddb7-41fd-9805-b15f65bf647b"
      },
      "execution_count": null,
      "outputs": [
        {
          "output_type": "execute_result",
          "data": {
            "text/plain": [
              "31"
            ]
          },
          "metadata": {},
          "execution_count": 24
        }
      ]
    },
    {
      "cell_type": "markdown",
      "source": [
        "# Exercise 3\n",
        "The following array is given below:\n",
        "\n",
        "```\n",
        "np.random.seed(42)\n",
        "A = np.random.randn(10, 4)\n",
        "```\n",
        "\n",
        "\n",
        "\n",
        "Set the Numpy option to print arrays with specified precision. Set precision to 4 and print this array.\n",
        "\n",
        "\n",
        "Expected output:\n",
        "\n",
        "```\n",
        "[[-1.151   0.3757 -0.6006 -0.2917]\n",
        " [-0.6017  1.8523 -0.0135 -1.0577]\n",
        " [ 0.8225 -1.2208  0.2089 -1.9597]\n",
        " [-1.3282  0.1969  0.7385  0.1714]\n",
        " [-0.1156 -0.3011 -1.4785 -0.7198]\n",
        " [-0.4606  1.0571  0.3436 -1.763 ]\n",
        " [ 0.3241 -0.3851 -0.6769  0.6117]\n",
        " [ 1.031   0.9313 -0.8392 -0.3092]\n",
        " [ 0.3313  0.9755 -0.4792 -0.1857]\n",
        " [-1.1063 -1.1962  0.8125  1.3562]]\n",
        "```\n",
        "\n"
      ],
      "metadata": {
        "id": "h7VozbJagMts"
      }
    },
    {
      "cell_type": "code",
      "source": [
        "np.random.seed(42)\n",
        "A = np.random.randn(10, 4)\n",
        "\n",
        "np.set_printoptions(precision=4)\n",
        "A"
      ],
      "metadata": {
        "colab": {
          "base_uri": "https://localhost:8080/"
        },
        "id": "pxPpvVpXqUZE",
        "outputId": "e7edc256-7e58-4aed-f5dc-1368253e92ea"
      },
      "execution_count": null,
      "outputs": [
        {
          "output_type": "execute_result",
          "data": {
            "text/plain": [
              "array([[ 0.4967, -0.1383,  0.6477,  1.523 ],\n",
              "       [-0.2342, -0.2341,  1.5792,  0.7674],\n",
              "       [-0.4695,  0.5426, -0.4634, -0.4657],\n",
              "       [ 0.242 , -1.9133, -1.7249, -0.5623],\n",
              "       [-1.0128,  0.3142, -0.908 , -1.4123],\n",
              "       [ 1.4656, -0.2258,  0.0675, -1.4247],\n",
              "       [-0.5444,  0.1109, -1.151 ,  0.3757],\n",
              "       [-0.6006, -0.2917, -0.6017,  1.8523],\n",
              "       [-0.0135, -1.0577,  0.8225, -1.2208],\n",
              "       [ 0.2089, -1.9597, -1.3282,  0.1969]])"
            ]
          },
          "metadata": {},
          "execution_count": 27
        }
      ]
    },
    {
      "cell_type": "markdown",
      "source": [
        "# Exercise 4\n",
        "The following array is given:\n",
        "\n",
        "`A = np.array([1.2e-6, 1.7e-7])`\n",
        "\n",
        "Set the precision to 8 and also set the appropriate Numpy option to suppress mathematical notation and print this array to the console.\n",
        "\n",
        "\n",
        "Expected result:\n",
        "`[0.0000012  0.00000017]`"
      ],
      "metadata": {
        "id": "k0kxbz_dgOoy"
      }
    },
    {
      "cell_type": "code",
      "source": [
        "A = np.array([1.2e-6, 1.7e-7])\n",
        "\n",
        "np.set_printoptions(precision=8, suppress=True)\n",
        "print(A)"
      ],
      "metadata": {
        "colab": {
          "base_uri": "https://localhost:8080/"
        },
        "id": "nYKGTzsgqk96",
        "outputId": "a361909d-b1db-4aac-eb40-6aa99c3b8599"
      },
      "execution_count": null,
      "outputs": [
        {
          "output_type": "stream",
          "name": "stdout",
          "text": [
            "[0.0000012  0.00000017]\n"
          ]
        }
      ]
    }
  ]
}