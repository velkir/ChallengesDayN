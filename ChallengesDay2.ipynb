{
  "nbformat": 4,
  "nbformat_minor": 0,
  "metadata": {
    "colab": {
      "provenance": [],
      "authorship_tag": "ABX9TyOLlQgNaoTBrkpvBlFijY6N",
      "include_colab_link": true
    },
    "kernelspec": {
      "name": "python3",
      "display_name": "Python 3"
    },
    "language_info": {
      "name": "python"
    }
  },
  "cells": [
    {
      "cell_type": "markdown",
      "metadata": {
        "id": "view-in-github",
        "colab_type": "text"
      },
      "source": [
        "<a href=\"https://colab.research.google.com/github/velkir/ChallengesDayN/blob/main/ChallengesDay2.ipynb\" target=\"_parent\"><img src=\"https://colab.research.google.com/assets/colab-badge.svg\" alt=\"Open In Colab\"/></a>"
      ]
    },
    {
      "cell_type": "markdown",
      "source": [
        "# Exercise 1\n",
        "The following array:\n",
        "\n",
        "```\n",
        "array([[0, 0, 0, 0, 0, 0],\n",
        "       [0, 0, 0, 0, 0, 0],\n",
        "       [0, 0, 0, 0, 0, 0],\n",
        "       [0, 0, 0, 0, 0, 0],\n",
        "       [0, 0, 0, 0, 0, 0],\n",
        "       [0, 0, 0, 0, 0, 0]])\n",
        "```\n",
        "\n",
        "\n",
        "\n",
        "transform to the following:\n",
        "\n",
        "```\n",
        "array([[10,  0, 10,  0, 10,  0],\n",
        "       [ 5,  0,  5,  0,  5,  0],\n",
        "       [10,  0, 10,  0, 10,  0],\n",
        "       [ 5,  0,  5,  0,  5,  0],\n",
        "       [10,  0, 10,  0, 10,  0],\n",
        "       [ 5,  0,  5,  0,  5,  0]])\n",
        "```\n",
        "\n",
        "\n",
        "\n",
        "In response, print transformed array to the console.\n",
        "\n",
        "Expected output:\n",
        "\n",
        "```\n",
        "[[10  0 10  0 10  0]\n",
        " [ 5  0  5  0  5  0]\n",
        " [10  0 10  0 10  0]\n",
        " [ 5  0  5  0  5  0]\n",
        " [10  0 10  0 10  0]\n",
        " [ 5  0  5  0  5  0]]\n",
        "```\n",
        "\n",
        "\n"
      ],
      "metadata": {
        "id": "TxSftJW7bzPO"
      }
    },
    {
      "cell_type": "code",
      "execution_count": null,
      "metadata": {
        "colab": {
          "base_uri": "https://localhost:8080/"
        },
        "id": "d7ouX1cybfNq",
        "outputId": "dfd2ec50-d3f1-4cae-809b-5511b6ed794c"
      },
      "outputs": [
        {
          "output_type": "execute_result",
          "data": {
            "text/plain": [
              "array([[10,  0, 10,  0, 10,  0],\n",
              "       [ 5,  0,  5,  0,  5,  0],\n",
              "       [10,  0, 10,  0, 10,  0],\n",
              "       [ 5,  0,  5,  0,  5,  0],\n",
              "       [10,  0, 10,  0, 10,  0],\n",
              "       [ 5,  0,  5,  0,  5,  0]])"
            ]
          },
          "metadata": {},
          "execution_count": 20
        }
      ],
      "source": [
        "import numpy as np\n",
        "\n",
        "array = np.zeros([6,6], dtype=int)\n",
        "# odd column odd row\n",
        "# odd column even row\n",
        "array[::2, ::2]=10\n",
        "array[1::2, ::2]=5\n",
        "array"
      ]
    },
    {
      "cell_type": "markdown",
      "source": [
        "# Exercise 2\n",
        "Combine the following arrays into one as shown below and print it to the console.\n",
        "\n",
        "\n",
        "```\n",
        "A = np.arange(12).reshape(-1, 4)\n",
        "B = np.array([[4, 3, 7, 2],\n",
        "              [0, 5, 2, 6]])\n",
        "```\n",
        "\n",
        "\n",
        "Expected result:\n",
        "\n",
        "```\n",
        "[[ 0  1  2  3]\n",
        " [ 4  5  6  7]\n",
        " [ 8  9 10 11]\n",
        " [ 4  3  7  2]\n",
        " [ 0  5  2  6]]\n",
        "```\n",
        "\n",
        "\n"
      ],
      "metadata": {
        "id": "OkKuWMtVfGBn"
      }
    },
    {
      "cell_type": "code",
      "source": [
        "A = np.arange(12).reshape(-1, 4)\n",
        "B = np.array([[4, 3, 7, 2],\n",
        "              [0, 5, 2, 6]])\n",
        "\n",
        "print(np.concatenate((A, B)))"
      ],
      "metadata": {
        "colab": {
          "base_uri": "https://localhost:8080/"
        },
        "id": "qRibKxIFfGeq",
        "outputId": "aef528ce-cf6a-4e08-de1c-59f4033becdd"
      },
      "execution_count": null,
      "outputs": [
        {
          "output_type": "stream",
          "name": "stdout",
          "text": [
            "[[ 0  1  2  3]\n",
            " [ 4  5  6  7]\n",
            " [ 8  9 10 11]\n",
            " [ 4  3  7  2]\n",
            " [ 0  5  2  6]]\n"
          ]
        }
      ]
    },
    {
      "cell_type": "markdown",
      "source": [
        "# Exercise 3\n",
        "The following arrays are given:\n",
        "\n",
        "```\n",
        "A = np.arange(8).reshape(-1, 4)\n",
        "B = np.array([[9, 10, 11, 3],\n",
        "              [2, 8, 0, 9]])\n",
        "```\n",
        "\n",
        "   \n",
        "\n",
        "Extract the same elements (intersection) of the arrays as a list and print result to the console.\n",
        "\n",
        "Expected result:\n",
        "[0 2 3]"
      ],
      "metadata": {
        "id": "bqzo_efHg0b2"
      }
    },
    {
      "cell_type": "code",
      "source": [
        "A = np.arange(8).reshape(-1, 4)\n",
        "B = np.array([[9, 10, 11, 3],\n",
        "              [2, 8, 0, 9]])\n",
        "\n",
        "# print(A)\n",
        "# print(B)\n",
        "\n",
        "#Просился list, тут ndarray\n",
        "intersection = np.intersect1d(A,B)\n",
        "print(\"{} type: {}\".format(intersection, type(intersection)))\n",
        "\n",
        "\n",
        "#можно конвертнуть\n",
        "intersection = list(intersection)\n",
        "print(\"{} type: {}\".format(intersection, type(intersection)))\n"
      ],
      "metadata": {
        "colab": {
          "base_uri": "https://localhost:8080/"
        },
        "id": "D7FVwqyKg03l",
        "outputId": "74449608-f784-455a-b6e8-622cb87c2197"
      },
      "execution_count": null,
      "outputs": [
        {
          "output_type": "stream",
          "name": "stdout",
          "text": [
            "[0 2 3] type: <class 'numpy.ndarray'>\n",
            "[0, 2, 3] type: <class 'list'>\n"
          ]
        }
      ]
    }
  ]
}