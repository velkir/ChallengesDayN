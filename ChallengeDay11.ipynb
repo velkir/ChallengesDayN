{
  "nbformat": 4,
  "nbformat_minor": 0,
  "metadata": {
    "colab": {
      "provenance": [],
      "authorship_tag": "ABX9TyN5qdmVurI5TcYCuvI8At4/",
      "include_colab_link": true
    },
    "kernelspec": {
      "name": "python3",
      "display_name": "Python 3"
    },
    "language_info": {
      "name": "python"
    }
  },
  "cells": [
    {
      "cell_type": "markdown",
      "metadata": {
        "id": "view-in-github",
        "colab_type": "text"
      },
      "source": [
        "<a href=\"https://colab.research.google.com/github/velkir/ChallengesDayN/blob/main/ChallengeDay11.ipynb\" target=\"_parent\"><img src=\"https://colab.research.google.com/assets/colab-badge.svg\" alt=\"Open In Colab\"/></a>"
      ]
    },
    {
      "cell_type": "markdown",
      "source": [
        "# Exercise 1\n",
        "The following array is given:\n",
        "\n",
        "```\n",
        "np.random.seed(42)\n",
        "A = np.random.randn(8, 4)\n",
        "```\n",
        "\n",
        "Remove the third column and print this array to the console.\n",
        "\n",
        "\n",
        "Expected result:\n",
        "\n",
        "```\n",
        "[[ 0.49671415 -0.1382643   1.52302986]\n",
        " [-0.23415337 -0.23413696  0.76743473]\n",
        " [-0.46947439  0.54256004 -0.46572975]\n",
        " [ 0.24196227 -1.91328024 -0.56228753]\n",
        " [-1.01283112  0.31424733 -1.4123037 ]\n",
        " [ 1.46564877 -0.2257763  -1.42474819]\n",
        " [-0.54438272  0.11092259  0.37569802]\n",
        " [-0.60063869 -0.29169375  1.85227818]]\n",
        "```\n",
        "\n"
      ],
      "metadata": {
        "id": "ENrfbXyl8L16"
      }
    },
    {
      "cell_type": "code",
      "execution_count": null,
      "metadata": {
        "colab": {
          "base_uri": "https://localhost:8080/"
        },
        "id": "nCARZmZ78KrT",
        "outputId": "8d4e474a-9300-41a9-cfd9-506da704bea9"
      },
      "outputs": [
        {
          "output_type": "execute_result",
          "data": {
            "text/plain": [
              "array([[ 0.49671415, -0.1382643 ,  0.64768854],\n",
              "       [-0.23415337, -0.23413696,  1.57921282],\n",
              "       [-0.46947439,  0.54256004, -0.46341769],\n",
              "       [ 0.24196227, -1.91328024, -1.72491783],\n",
              "       [-1.01283112,  0.31424733, -0.90802408],\n",
              "       [ 1.46564877, -0.2257763 ,  0.0675282 ],\n",
              "       [-0.54438272,  0.11092259, -1.15099358],\n",
              "       [-0.60063869, -0.29169375, -0.60170661]])"
            ]
          },
          "metadata": {},
          "execution_count": 3
        }
      ],
      "source": [
        "import numpy as np\n",
        "\n",
        "np.random.seed(42)\n",
        "A = np.random.randn(8, 4)\n",
        "\n",
        "A = np.delete(A, obj=3, axis=1)\n",
        "A"
      ]
    },
    {
      "cell_type": "markdown",
      "source": [
        "# Exercise 2\n",
        "A one-dimensional array v (vector) is given:\n",
        "\n",
        "`v = np.array([3, 4, -2])`\n",
        "\n",
        "Calculate the norm of this vector and print result to the console."
      ],
      "metadata": {
        "id": "-rypyUvL8PqW"
      }
    },
    {
      "cell_type": "code",
      "source": [
        "v = np.array([3, 4, -2])\n",
        "\n",
        "np.linalg.norm(v)\n",
        "# Этот вариант попонятнее\n",
        "# np.linalg.norm(v, 1)\n"
      ],
      "metadata": {
        "colab": {
          "base_uri": "https://localhost:8080/"
        },
        "id": "bQRrRO9Q8P8P",
        "outputId": "1461df52-28d5-4906-ffee-cf28ab37e1f3"
      },
      "execution_count": null,
      "outputs": [
        {
          "output_type": "execute_result",
          "data": {
            "text/plain": [
              "9.0"
            ]
          },
          "metadata": {},
          "execution_count": 12
        }
      ]
    },
    {
      "cell_type": "markdown",
      "source": [
        "# Exercise 3\n",
        "The following array is given:\n",
        "\n",
        "```\n",
        "np.random.seed(42)\n",
        "A = np.random.randint(10, size=(100, 30))\n",
        "```\n",
        "\n",
        "Set the Numpy option to print only ten edge elements and then print this array to the console."
      ],
      "metadata": {
        "id": "ELteQwVS8SWQ"
      }
    },
    {
      "cell_type": "code",
      "source": [
        "np.random.seed(42)\n",
        "A = np.random.randint(10, size=(100, 30))\n",
        "\n",
        "np.set_printoptions(edgeitems=10)\n",
        "print(A)"
      ],
      "metadata": {
        "colab": {
          "base_uri": "https://localhost:8080/"
        },
        "id": "TPFZgv3X8SwL",
        "outputId": "482464f8-6bb3-4c57-8fe6-85803cc6c6c9"
      },
      "execution_count": null,
      "outputs": [
        {
          "output_type": "stream",
          "name": "stdout",
          "text": [
            "[[6 3 7 4 6 9 2 6 7 4 ... 4 0 9 5 8 0 9 2 6 3]\n",
            " [8 2 4 2 6 4 8 6 1 3 ... 2 0 3 1 7 3 1 5 5 9]\n",
            " [3 5 1 9 1 9 3 7 6 8 ... 6 8 7 0 7 7 2 0 7 2]\n",
            " [2 0 4 9 6 9 8 6 8 7 ... 0 2 4 2 0 4 9 6 6 8]\n",
            " [9 9 2 6 0 3 3 4 6 6 ... 9 6 8 6 0 0 8 8 3 8]\n",
            " [2 6 5 7 8 4 0 2 9 7 ... 2 0 4 0 7 0 0 1 1 5]\n",
            " [6 4 0 0 2 1 4 9 5 6 ... 5 0 8 5 2 3 3 2 9 2]\n",
            " [2 3 6 3 8 0 7 6 1 7 ... 3 0 1 0 4 4 6 8 8 2]\n",
            " [2 2 3 7 5 7 0 7 3 0 ... 1 1 5 2 8 3 0 3 0 4]\n",
            " [3 7 7 6 2 0 0 2 5 6 ... 4 2 3 2 0 0 4 5 2 8]\n",
            " ...\n",
            " [6 4 8 2 0 3 8 3 1 9 ... 8 4 7 1 5 2 9 4 7 9]\n",
            " [0 4 2 3 1 8 2 1 9 8 ... 7 7 6 5 8 3 0 7 6 6]\n",
            " [2 3 9 8 5 4 2 8 4 4 ... 6 1 7 5 3 4 7 2 2 3]\n",
            " [0 8 7 7 9 5 6 5 8 2 ... 2 3 7 5 4 3 7 0 8 0]\n",
            " [7 3 8 4 2 8 8 3 3 7 ... 4 4 3 4 2 0 4 8 8 3]\n",
            " [2 0 1 7 0 7 6 7 5 8 ... 2 3 6 6 3 5 2 5 1 7]\n",
            " [1 6 8 0 7 6 5 5 5 8 ... 2 7 2 3 7 0 5 0 0 7]\n",
            " [3 0 9 6 4 4 0 9 5 8 ... 6 8 6 2 0 7 2 7 7 4]\n",
            " [0 9 6 9 4 7 8 6 6 0 ... 7 3 0 0 9 2 8 6 1 8]\n",
            " [9 1 2 9 1 2 5 8 8 6 ... 8 2 0 6 9 4 4 0 8 6]]\n"
          ]
        }
      ]
    }
  ]
}