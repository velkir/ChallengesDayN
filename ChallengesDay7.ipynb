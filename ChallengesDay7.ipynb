{
  "nbformat": 4,
  "nbformat_minor": 0,
  "metadata": {
    "colab": {
      "provenance": [],
      "authorship_tag": "ABX9TyMTEDjNW+09Itw5rfNbmtG1",
      "include_colab_link": true
    },
    "kernelspec": {
      "name": "python3",
      "display_name": "Python 3"
    },
    "language_info": {
      "name": "python"
    }
  },
  "cells": [
    {
      "cell_type": "markdown",
      "metadata": {
        "id": "view-in-github",
        "colab_type": "text"
      },
      "source": [
        "<a href=\"https://colab.research.google.com/github/velkir/ChallengesDayN/blob/main/ChallengesDay7.ipynb\" target=\"_parent\"><img src=\"https://colab.research.google.com/assets/colab-badge.svg\" alt=\"Open In Colab\"/></a>"
      ]
    },
    {
      "cell_type": "markdown",
      "source": [
        "Exercise 1\n",
        "Two randomly generated arrays are given:\n",
        "\n",
        "\n",
        "\n",
        "```\n",
        "image1 = np.random.randint(\n",
        "    low=0, high=256, size=(200, 300, 3), dtype=np.uint8\n",
        ")\n",
        "image2 = np.random.randint(\n",
        "    low=0, high=256, size=(200, 300, 3), dtype=np.uint8\n",
        ")\n",
        "```\n",
        "\n",
        "\n",
        "\n",
        "Expand each of these arrays by adding one dimension at the beginning and then combine these arrays into one called images.\n",
        "`Expected shape of images array: (2, 200, 300, 3).`\n",
        "\n",
        "\n"
      ],
      "metadata": {
        "id": "QHLvK2g6BehS"
      }
    },
    {
      "cell_type": "code",
      "execution_count": null,
      "metadata": {
        "colab": {
          "base_uri": "https://localhost:8080/"
        },
        "id": "ONmCXI_VBd08",
        "outputId": "926cd577-8378-41ca-d1a9-0150fbeab496"
      },
      "outputs": [
        {
          "output_type": "stream",
          "name": "stdout",
          "text": [
            "(200, 300, 3)\n",
            "(1, 200, 300, 3)\n",
            "(2, 200, 300, 3)\n"
          ]
        }
      ],
      "source": [
        "import numpy as np\n",
        "\n",
        "image1 = np.random.randint(\n",
        "    low=0, high=256, size=(200, 300, 3), dtype=np.uint8\n",
        ")\n",
        "image2 = np.random.randint(\n",
        "    low=0, high=256, size=(200, 300, 3), dtype=np.uint8\n",
        ")\n",
        "\n",
        "print(image1.shape)\n",
        "image1 = np.expand_dims(image1, axis=0)\n",
        "image2 = np.expand_dims(image2, axis=0)\n",
        "print(image1.shape)\n",
        "\n",
        "image3 = np.concatenate((image1, image2))\n",
        "print(image3.shape)"
      ]
    },
    {
      "cell_type": "markdown",
      "source": [
        "Exercise 2\n",
        "The following array is given:\n",
        "\n",
        "```\n",
        "A = np.array([[[1, 2, 3],\n",
        "               [6, 3, 2]]])\n",
        "```\n",
        "\n",
        "\n",
        "\n",
        "Shape of this array is (1, 2, 3). Remove the unnecessary first dimension and extract (2, 3) array and print it to the console as shown below.\n"
      ],
      "metadata": {
        "id": "0sIbHSAgBkAU"
      }
    },
    {
      "cell_type": "code",
      "source": [
        "A = np.array([[[1, 2, 3],\n",
        "               [6, 3, 2]]])\n",
        "print(A.shape)\n",
        "A = np.squeeze(A)\n",
        "print(A.shape)"
      ],
      "metadata": {
        "colab": {
          "base_uri": "https://localhost:8080/"
        },
        "id": "7nNj5j-EBptN",
        "outputId": "d213e2e8-ceb0-40f3-b592-900d0af8faf9"
      },
      "execution_count": null,
      "outputs": [
        {
          "output_type": "stream",
          "name": "stdout",
          "text": [
            "(1, 2, 3)\n",
            "(2, 3)\n"
          ]
        }
      ]
    },
    {
      "cell_type": "markdown",
      "source": [
        "Exercise 3\n",
        "The following array is given:\n",
        "\n",
        "```\n",
        "A = np.array([[0.4],\n",
        "              [0.9],\n",
        "              [0.5],\n",
        "              [0.6]])\n",
        "```\n",
        "\n",
        "\n",
        "\n",
        "Shape of this array is (4, 1). Remove the unnecessary dimension and extract (4, ) array and print result to the console.\n",
        "\n",
        "```\n",
        "Expected output:\n",
        "[0.4 0.9 0.5 0.6]\n",
        "```\n",
        "\n"
      ],
      "metadata": {
        "id": "oVzbJNiuBn63"
      }
    },
    {
      "cell_type": "code",
      "source": [
        "A = np.array([[0.4],\n",
        "              [0.9],\n",
        "              [0.5],\n",
        "              [0.6]])\n",
        "\n",
        "print(A.shape)\n",
        "A = np.squeeze(A)\n",
        "print(A.shape)\n",
        "print(A)"
      ],
      "metadata": {
        "colab": {
          "base_uri": "https://localhost:8080/"
        },
        "id": "fgZobmI1BoNc",
        "outputId": "a655ab54-bd6f-4684-b8b7-9b286a4e182d"
      },
      "execution_count": null,
      "outputs": [
        {
          "output_type": "stream",
          "name": "stdout",
          "text": [
            "(4, 1)\n",
            "(4,)\n",
            "[0.4 0.9 0.5 0.6]\n"
          ]
        }
      ]
    }
  ]
}