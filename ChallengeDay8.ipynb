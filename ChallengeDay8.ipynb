{
  "nbformat": 4,
  "nbformat_minor": 0,
  "metadata": {
    "colab": {
      "provenance": [],
      "authorship_tag": "ABX9TyO4ZPyhnHWa/eJDfsG3nbzH",
      "include_colab_link": true
    },
    "kernelspec": {
      "name": "python3",
      "display_name": "Python 3"
    },
    "language_info": {
      "name": "python"
    }
  },
  "cells": [
    {
      "cell_type": "markdown",
      "metadata": {
        "id": "view-in-github",
        "colab_type": "text"
      },
      "source": [
        "<a href=\"https://colab.research.google.com/github/velkir/ChallengesDayN/blob/main/ChallengeDay8.ipynb\" target=\"_parent\"><img src=\"https://colab.research.google.com/assets/colab-badge.svg\" alt=\"Open In Colab\"/></a>"
      ]
    },
    {
      "cell_type": "markdown",
      "source": [
        "# Exercise 1\n",
        "The following array is given:\n",
        "\n",
        "\n",
        "```\n",
        "array([[ 0,  1,  2,  3],\n",
        "       [ 4,  5,  6,  7],\n",
        "       [ 8,  9, 10, 11]])\n",
        "```\n",
        "\n",
        "\n",
        "\n",
        "Transform this array into the following:\n",
        "\n",
        "\n",
        "```\n",
        "array([[ 3,  2,  1,  0],\n",
        "       [ 7,  6,  5,  4],\n",
        "       [11, 10,  9,  8]])\n",
        "```\n",
        "\n",
        "\n",
        "\n",
        "\n",
        "In response, print transformed array to the console.\n",
        "\n",
        "\n",
        "\n",
        "\n",
        "\n",
        "\n"
      ],
      "metadata": {
        "id": "Do9hIMQ1Gglz"
      }
    },
    {
      "cell_type": "code",
      "execution_count": null,
      "metadata": {
        "colab": {
          "base_uri": "https://localhost:8080/"
        },
        "id": "4lyVxxybGfiZ",
        "outputId": "997ecf32-9873-428b-c277-45f29403ff89"
      },
      "outputs": [
        {
          "output_type": "execute_result",
          "data": {
            "text/plain": [
              "array([[ 3,  2,  1,  0],\n",
              "       [ 7,  6,  5,  4],\n",
              "       [11, 10,  9,  8]])"
            ]
          },
          "metadata": {},
          "execution_count": 3
        }
      ],
      "source": [
        "array =([[ 0,  1,  2,  3],\n",
        "       [ 4,  5,  6,  7],\n",
        "       [ 8,  9, 10, 11]])\n",
        "\n",
        "import numpy as np\n",
        "flipped_array = np.flip(array, axis=1)\n",
        "flipped_array\n"
      ]
    },
    {
      "cell_type": "markdown",
      "source": [
        "# Exercise 2\n",
        "The following  array is given:\n",
        "\n",
        "\n",
        "\n",
        "\n",
        "```\n",
        "array([[ 0,  1,  2,  3],\n",
        "       [ 4,  5,  6,  7],\n",
        "       [ 8,  9, 10, 11]])\n",
        "```\n",
        "\n",
        "\n",
        "\n",
        "Transform this array into the following:\n",
        "\n",
        "```\n",
        "array([[11, 10,  9,  8],\n",
        "       [ 7,  6,  5,  4],\n",
        "       [ 3,  2,  1,  0]])\n",
        "```\n",
        "\n",
        "In response, print transformed array to the console."
      ],
      "metadata": {
        "id": "wXnSmquYGyTu"
      }
    },
    {
      "cell_type": "code",
      "source": [
        "array = ([[ 0,  1,  2,  3],\n",
        "       [ 4,  5,  6,  7],\n",
        "       [ 8,  9, 10, 11]])\n",
        "\n",
        "flipped_array = np.flip(array, axis=(0,1))\n",
        "flipped_array"
      ],
      "metadata": {
        "colab": {
          "base_uri": "https://localhost:8080/"
        },
        "id": "GzQTcPxsJ5pY",
        "outputId": "9d482c4d-e676-48c6-81b3-b48961ec6c3d"
      },
      "execution_count": null,
      "outputs": [
        {
          "output_type": "execute_result",
          "data": {
            "text/plain": [
              "array([[11, 10,  9,  8],\n",
              "       [ 7,  6,  5,  4],\n",
              "       [ 3,  2,  1,  0]])"
            ]
          },
          "metadata": {},
          "execution_count": 5
        }
      ]
    },
    {
      "cell_type": "markdown",
      "source": [
        "# Exercise 3\n",
        "Random seed is set to 42. The following array is given:\n",
        "\n",
        "```\n",
        "image = np.random.randint(\n",
        "    low=0, high=256, size=(10, 10, 3), dtype=np.uint8\n",
        ")\n",
        "```\n",
        "\n",
        "\n",
        "\n",
        "Extract the first channel (index 0) of this image array and print it to the console.\n",
        "\n",
        "\n",
        "\n",
        "```\n",
        "Expected output:\n",
        "\n",
        "[[102  95 234   3  14  46  99 212 188 153]\n",
        " [203 214 121 114 239 244  74  14 145 184]\n",
        " [116  85 226 235 151 181 160   6  52  14]\n",
        " [ 76 233 235 213  68 219 129   0 140 147]\n",
        " [ 20  46  19 209  57 156  86  24 235 110]\n",
        " [231 254 218 134 162  73 169  35 242 253]\n",
        " [187 249 201 231 189 116  49  74 189 158]\n",
        " [ 29   7  54 131 181 123 248 119 228  13][ 50 155  40 120  72 115 167  85 131 242]\n",
        " [ 52 169  13 144 243 167   8  77  22  10]]\n",
        "```\n",
        "\n"
      ],
      "metadata": {
        "id": "Ki6lgwW7G2r0"
      }
    },
    {
      "cell_type": "code",
      "source": [
        "np.random.seed = 42\n",
        "\n",
        "image = np.random.randint(\n",
        "    low=0, high=256, size=(10, 10, 3), dtype=np.uint8\n",
        ")\n",
        "\n",
        "image[:, :, 0]\n",
        "# np.extract(image, image[:, :, 0])"
      ],
      "metadata": {
        "colab": {
          "base_uri": "https://localhost:8080/",
          "height": 210
        },
        "id": "hXeEL3XlG710",
        "outputId": "24a112ba-11a8-4d54-ffda-fa31b0d741e3"
      },
      "execution_count": null,
      "outputs": [
        {
          "output_type": "execute_result",
          "data": {
            "text/plain": [
              "array([[ 72, 173, 162,  50, 151,  72,  54, 123,  70, 118],\n",
              "       [214, 139,  27,  24,  89, 169, 146,  92, 188,  70],\n",
              "       [178,  94,  48, 246, 152, 165, 246, 117,   5,  88],\n",
              "       [ 18, 145, 170, 112, 200,  40, 196,  87, 172, 193],\n",
              "       [131, 171, 149,  24, 247, 141,  93, 182, 250,  49],\n",
              "       [170,  15, 119,  59, 126,  86, 219,  62,  70, 102],\n",
              "       [157, 199, 207, 253, 224, 179,  79,  95, 178, 135],\n",
              "       [  2, 255, 225, 158,  78,   8, 155, 201, 134,  20],\n",
              "       [ 85, 158, 154,  43, 228,  83, 100,  86, 124, 176],\n",
              "       [ 38, 189, 166, 158, 164,  34, 113, 132,  22, 234]], dtype=uint8)"
            ],
            "text/html": [
              "<style>\n",
              "      .ndarray_repr .ndarray_raw_data {\n",
              "        display: none;\n",
              "      }\n",
              "      .ndarray_repr.show_array .ndarray_raw_data {\n",
              "        display: block;\n",
              "      }\n",
              "      .ndarray_repr.show_array .ndarray_image_preview {\n",
              "        display: none;\n",
              "      }\n",
              "      </style>\n",
              "      <div id=\"id-af64aaa6-1bf9-4b08-be03-bbc99c6cfb4f\" class=\"ndarray_repr\"><pre>ndarray (10, 10) <button style=\"padding: 0 2px;\">show data</button></pre><img src=\"data:image/png;base64,iVBORw0KGgoAAAANSUhEUgAAAAoAAAAKCAAAAACoWZBhAAAAeUlEQVR4nAFuAJH/AUhl9ZBlse5FyzAB1rWQ/UFQ6cpgigLc0xXeP/xkGUkSABKRqnDIKMRXrMEAg6uVGPeNXbb6MQGqZWjEQ9iFYwggAZ0qCC7j05wQU9UAAv/hnk4Im8mGFAFVSfyRuW8R8iY0AtEfDHPAzw0umjpQcTHLhhBcaAAAAABJRU5ErkJggg==\" class=\"ndarray_image_preview\" /><pre class=\"ndarray_raw_data\">array([[ 72, 173, 162,  50, 151,  72,  54, 123,  70, 118],\n",
              "       [214, 139,  27,  24,  89, 169, 146,  92, 188,  70],\n",
              "       [178,  94,  48, 246, 152, 165, 246, 117,   5,  88],\n",
              "       [ 18, 145, 170, 112, 200,  40, 196,  87, 172, 193],\n",
              "       [131, 171, 149,  24, 247, 141,  93, 182, 250,  49],\n",
              "       [170,  15, 119,  59, 126,  86, 219,  62,  70, 102],\n",
              "       [157, 199, 207, 253, 224, 179,  79,  95, 178, 135],\n",
              "       [  2, 255, 225, 158,  78,   8, 155, 201, 134,  20],\n",
              "       [ 85, 158, 154,  43, 228,  83, 100,  86, 124, 176],\n",
              "       [ 38, 189, 166, 158, 164,  34, 113, 132,  22, 234]], dtype=uint8)</pre></div><script>\n",
              "      (() => {\n",
              "      const titles = ['show data', 'hide data'];\n",
              "      let index = 0\n",
              "      document.querySelector('#id-af64aaa6-1bf9-4b08-be03-bbc99c6cfb4f button').onclick = (e) => {\n",
              "        document.querySelector('#id-af64aaa6-1bf9-4b08-be03-bbc99c6cfb4f').classList.toggle('show_array');\n",
              "        index = (++index) % 2;\n",
              "        document.querySelector('#id-af64aaa6-1bf9-4b08-be03-bbc99c6cfb4f button').textContent = titles[index];\n",
              "        e.preventDefault();\n",
              "        e.stopPropagation();\n",
              "      }\n",
              "      })();\n",
              "    </script>"
            ]
          },
          "metadata": {},
          "execution_count": 17
        }
      ]
    },
    {
      "cell_type": "markdown",
      "source": [
        "# Exercise 4\n",
        "The following array is given:\n",
        "\n",
        "```\n",
        "image = np.random.randint(\n",
        "    low=0, high=256, size=(10, 10, 3), dtype=np.uint8\n",
        ")\n",
        "```\n",
        "\n",
        "\n",
        "\n",
        "Extract any array of shape (5, 5, 3) from this array and assign to the result variable."
      ],
      "metadata": {
        "id": "VUSGNfffG8Gi"
      }
    },
    {
      "cell_type": "code",
      "source": [
        "image = np.random.randint(\n",
        "    low=0, high=256, size=(10, 10, 3), dtype=np.uint8\n",
        ")\n",
        "\n",
        "subimage = image[:5, :5, :3]\n",
        "print(subimage.shape)\n",
        "print(subimage)\n",
        "\n",
        "\n"
      ],
      "metadata": {
        "colab": {
          "base_uri": "https://localhost:8080/"
        },
        "id": "nKHmJmwMG8be",
        "outputId": "6c79d708-c884-4f38-e53f-79df7de313ef"
      },
      "execution_count": null,
      "outputs": [
        {
          "output_type": "stream",
          "name": "stdout",
          "text": [
            "(5, 5, 3)\n",
            "[[[206  52 200]\n",
            "  [144 242  14]\n",
            "  [  8   3 148]\n",
            "  [ 16  42 112]\n",
            "  [100 153 254]]\n",
            "\n",
            " [[189 213 104]\n",
            "  [169  22 254]\n",
            "  [117  58  38]\n",
            "  [ 59  80 122]\n",
            "  [115  10  96]]\n",
            "\n",
            " [[136 144 207]\n",
            "  [249   1 197]\n",
            "  [218  28 176]\n",
            "  [182  83 158]\n",
            "  [235 238 121]]\n",
            "\n",
            " [[ 93  15 205]\n",
            "  [145  31  81]\n",
            "  [179 197 244]\n",
            "  [211 125  47]\n",
            "  [  5  53  54]]\n",
            "\n",
            " [[118 164 175]\n",
            "  [ 56  20 242]\n",
            "  [ 90  46  64]\n",
            "  [ 67 241 203]\n",
            "  [169  75 153]]]\n"
          ]
        }
      ]
    }
  ]
}