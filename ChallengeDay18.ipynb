{
  "nbformat": 4,
  "nbformat_minor": 0,
  "metadata": {
    "colab": {
      "provenance": [],
      "authorship_tag": "ABX9TyN8cS/0+nivu4OQr8g7JNT0",
      "include_colab_link": true
    },
    "kernelspec": {
      "name": "python3",
      "display_name": "Python 3"
    },
    "language_info": {
      "name": "python"
    }
  },
  "cells": [
    {
      "cell_type": "markdown",
      "metadata": {
        "id": "view-in-github",
        "colab_type": "text"
      },
      "source": [
        "<a href=\"https://colab.research.google.com/github/velkir/ChallengesDayN/blob/main/ChallengeDay18.ipynb\" target=\"_parent\"><img src=\"https://colab.research.google.com/assets/colab-badge.svg\" alt=\"Open In Colab\"/></a>"
      ]
    },
    {
      "cell_type": "markdown",
      "source": [
        "# Exercise 1\n",
        "The following arrays are given:\n",
        "\n",
        "```\n",
        "A = np.array(['001', '002', '003'], dtype=np.str)\n",
        "B = np.array(['XC', 'YC', 'ZC'], dtype=np.str)\n",
        "```\n",
        "\n",
        "Merge them together as shown below and print result to the console.\n",
        "\n",
        "Expected result:\n",
        "`['001XC' '002YC' '003ZC']`"
      ],
      "metadata": {
        "id": "LA7X4lECvqeQ"
      }
    },
    {
      "cell_type": "code",
      "execution_count": null,
      "metadata": {
        "colab": {
          "base_uri": "https://localhost:8080/"
        },
        "id": "Jr1uzMZRvijj",
        "outputId": "9ef93a6b-3c83-48af-e670-80979fadac03"
      },
      "outputs": [
        {
          "output_type": "stream",
          "name": "stdout",
          "text": [
            "['001XC' '002YC' '003ZC']\n"
          ]
        }
      ],
      "source": [
        "import numpy as np\n",
        "\n",
        "A = np.array(['001', '002', '003'], dtype=np.str_)\n",
        "B = np.array(['XC', 'YC', 'ZC'], dtype=np.str_)\n",
        "\n",
        "C = np.char.add(A,B)\n",
        "print(C)"
      ]
    },
    {
      "cell_type": "markdown",
      "source": [
        "# Exercise 2\n",
        "The following array is given:\n",
        "`A = np.array(['1', '2', '3'], dtype=np.str)`\n",
        "\n",
        "Add '000' (3 zeros) at the beginning of each element of this array as shown below and print result to the console.\n",
        "\n",
        "Expected output:\n",
        "`['0001' '0002' '0003'] `"
      ],
      "metadata": {
        "id": "D-DxqWmVvst5"
      }
    },
    {
      "cell_type": "code",
      "source": [
        "A = np.array(['1', '2', '3'], dtype=np.str_)\n",
        "\n",
        "print(np.char.add('000', A))"
      ],
      "metadata": {
        "colab": {
          "base_uri": "https://localhost:8080/"
        },
        "id": "I6GEHvJSyQOa",
        "outputId": "b75a2b9b-f03b-45e8-b1a4-1e8d12a6f688"
      },
      "execution_count": null,
      "outputs": [
        {
          "output_type": "stream",
          "name": "stdout",
          "text": [
            "['0001' '0002' '0003']\n"
          ]
        }
      ]
    },
    {
      "cell_type": "markdown",
      "source": [
        "# Exercise 3\n",
        "The following array is given:\n",
        "\n",
        "```\n",
        "A = np.array([['PLW CDR 11B TEN', 'AMC LPP'],\n",
        "              ['CDR PKO KGH', 'CCC QMK']], dtype=np.str)\n",
        "```\n",
        "\n",
        "Split each element of this array by space character as shown below.\n",
        "\n",
        "Expected result:\n",
        "\n",
        "```\n",
        "[[list(['PLW', 'CDR', '11B', 'TEN']) list(['AMC', 'LPP'])]\n",
        " [list(['CDR', 'PKO', 'KGH']) list(['CCC', 'QMK'])]]\n",
        "```\n",
        "\n"
      ],
      "metadata": {
        "id": "hkZp_pWLvuwK"
      }
    },
    {
      "cell_type": "code",
      "source": [
        "A = np.array([['PLW CDR 11B TEN', 'AMC LPP'],\n",
        "              ['CDR PKO KGH', 'CCC QMK']], dtype=np.str_)\n",
        "\n",
        "print(np.char.split(A, \" \"))"
      ],
      "metadata": {
        "colab": {
          "base_uri": "https://localhost:8080/"
        },
        "id": "9dAt5tZzyRE-",
        "outputId": "5362b79a-0af5-478b-c7f2-df5fa9f2529a"
      },
      "execution_count": null,
      "outputs": [
        {
          "output_type": "stream",
          "name": "stdout",
          "text": [
            "[[list(['PLW', 'CDR', '11B', 'TEN']) list(['AMC', 'LPP'])]\n",
            " [list(['CDR', 'PKO', 'KGH']) list(['CCC', 'QMK'])]]\n"
          ]
        }
      ]
    }
  ]
}